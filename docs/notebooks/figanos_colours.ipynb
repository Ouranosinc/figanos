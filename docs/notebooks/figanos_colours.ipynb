{
 "cells": [
  {
   "cell_type": "markdown",
   "id": "3c31c5fc",
   "metadata": {},
   "source": [
    "# Colours of Figanos"
   ]
  },
  {
   "cell_type": "markdown",
   "id": "002be0b5",
   "metadata": {},
   "source": [
    "On this page, we present Figanos colours and colormaps, following the [IPCC visual style guide](https://www.ipcc.ch/site/assets/uploads/2022/09/IPCC_AR6_WGI_VisualStyleGuide_2022.pdf)."
   ]
  },
  {
   "cell_type": "code",
   "execution_count": null,
   "id": "2e83609e",
   "metadata": {},
   "outputs": [],
   "source": [
    "\n",
    "%load_ext autoreload\n",
    "%autoreload 2\n",
    "\n",
    "import figanos.matplotlib as fg\n",
    "fg.utils.set_mpl_style('ouranos')\n",
    "\n",
    "import matplotlib as mpl\n",
    "import glob\n",
    "import os\n",
    "import numpy as np\n",
    "import json\n",
    "from matplotlib.patches import Rectangle\n",
    "from pathlib import Path\n",
    "from matplotlib import pyplot as plt"
   ]
  },
  {
   "cell_type": "markdown",
   "id": "e9c74b22",
   "metadata": {},
   "source": [
    "## Colormaps\n",
    "Figanos tries to guess the colormap based on keywords in the attributes of the data and the `divergent` argument. Users can also pass the name of a colormap (see options below) directly to the `cmap` argument. If you want to suggest a new keyword, create an [issue on the github repositery](https://github.com/Ouranosinc/figanos/issues).\n"
   ]
  },
  {
   "cell_type": "code",
   "execution_count": null,
   "id": "3976671b",
   "metadata": {},
   "outputs": [],
   "source": [
    "with open(str(Path(os.getcwd()).parents[1])+ \"/figanos/data/ipcc_colors/variable_groups.json\") as f:\n",
    "    var_dict = json.load(f)\n",
    "for f in np.sort(glob.glob(str(Path(os.getcwd()).parents[1])+ \"/figanos/data/ipcc_colors/continuous_colormaps_rgb_0-255/*\")):\n",
    "    name=Path(f).name.replace('.txt','')\n",
    "    cmap = fg.utils.create_cmap(filename=name)\n",
    "    fig = plt.figure()\n",
    "    ax = fig.add_axes([0.05, 0.80, 0.9, 0.1])\n",
    "    cb = mpl.colorbar.ColorbarBase(ax, orientation='horizontal', \n",
    "                                   cmap=cmap)\n",
    "    cb.outline.set_visible(False)\n",
    "    cb.ax.set_xticklabels([]);\n",
    "    split=name.split(\"_\")\n",
    "    var = split[0]+(split[2] if len(split)==3 else '')\n",
    "    kw= [k for k,v in var_dict.items() if v ==var]\n",
    "    #plt.title(f\"name: {name} \\n keywords: {kw}\", wrap=True)\n",
    "    plt.figtext(.5,.95 + (0.04 *int(len(kw)/10)),f\"name: {name}\", fontsize=15, ha='center')\n",
    "    plt.figtext(.5,.91,f\"keywords: {kw}\",fontsize=10,ha='center', wrap=True)"
   ]
  },
  {
   "cell_type": "markdown",
   "id": "c6402a7c",
   "metadata": {},
   "source": [
    "## Colours"
   ]
  },
  {
   "cell_type": "code",
   "execution_count": null,
   "id": "8cbdb1f5",
   "metadata": {
    "pycharm": {
     "name": "#%%\n"
    }
   },
   "outputs": [],
   "source": [
    "color_dict = fg.utils.categorical_colors()\n",
    "\n",
    "keys = np.array(list(color_dict.keys()))\n",
    "keys = np.array_split(keys, 3)\n",
    "\n",
    "\n",
    "fig, ax = plt.subplots(figsize=(8,10))\n",
    "ax.set_ylim(-25,3)\n",
    "ax.set_xlim(0,12)\n",
    "ax.set_axis_off()\n",
    "for colorlist, x in zip(keys, [1, 5.5, 10]):\n",
    "    for y in np.arange(len(colorlist)):\n",
    "        ax.text(x, -y, colorlist[y],\n",
    "                va='bottom', ha='left',\n",
    "                backgroundcolor='white',\n",
    "                weight='normal', color='k'\n",
    "                )\n",
    "        ax.add_patch(\n",
    "            Rectangle(xy=(x-1, -y),width=0.5,height=0.5,\n",
    "                      facecolor=color_dict[colorlist[y]],\n",
    "                     edgecolor='0.8')\n",
    "                     )"
   ]
  }
 ],
 "metadata": {
  "language_info": {
   "codemirror_mode": {
    "name": "ipython",
    "version": 3
   },
   "file_extension": ".py",
   "mimetype": "text/x-python",
   "name": "python",
   "nbconvert_exporter": "python",
   "pygments_lexer": "ipython3",
   "version": "3.9.16"
  }
 },
 "nbformat": 4,
 "nbformat_minor": 5
}
