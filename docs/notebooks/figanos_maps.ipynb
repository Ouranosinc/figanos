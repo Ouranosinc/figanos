{
 "cells": [
  {
   "cell_type": "markdown",
   "id": "0",
   "metadata": {},
   "source": [
    "# Maps\n",
    "\n"
   ]
  },
  {
   "cell_type": "code",
   "execution_count": null,
   "id": "1",
   "metadata": {
    "nbsphinx": "hidden"
   },
   "outputs": [],
   "source": [
    "# setup notebook\n",
    "%config InlineBackend.print_figure_kwargs = {'bbox_inches':'tight'}\n",
    "from __future__ import annotations\n",
    "\n",
    "%load_ext autoreload\n",
    "%autoreload 2"
   ]
  },
  {
   "cell_type": "code",
   "execution_count": null,
   "id": "2",
   "metadata": {},
   "outputs": [],
   "source": [
    "import xarray as xr\n",
    "import figanos.matplotlib as fg\n",
    "import cartopy.crs as ccrs\n",
    "from matplotlib import pyplot as plt\n",
    "import numpy as np\n",
    "\n",
    "fg.utils.set_mpl_style(\"ouranos\")\n",
    "\n",
    "# load dataset\n",
    "url = \"https://pavics.ouranos.ca//twitcher/ows/proxy/thredds/dodsC/birdhouse/disk2/cccs_portal/indices/Final/BCCAQv2_CMIP6/tx_max/YS/ssp585/ensemble_percentiles/tx_max_ann_BCCAQ2v2+ANUSPLIN300_historical+ssp585_1950-2100_30ymean_percentiles.nc\"\n",
    "opened = xr.open_dataset(url, decode_timedelta=False)\n",
    "ds_space = opened[[\"tx_max_p50\"]].isel(time=0).sel(lat=slice(40, 65), lon=slice(-90, -55))"
   ]
  },
  {
   "cell_type": "markdown",
   "id": "3",
   "metadata": {},
   "source": [
    "## Gridded Data on Maps\n",
    "\n",
    "The gridmap function plots gridded data onto maps built using [Cartopy](https://scitools.org.uk/cartopy/docs/latest/) along with xarray plotting functions.\n",
    "\n",
    "Visit the timeseries notebook to learn the basic functions of figanos. The main arguments of the timeseries() functions are also found in gridmap(), but new ones are introduced to handle map projections and colormap/colorbar options.\n",
    "\n",
    "By default, the Lambert Conformal conic projection is used for the basemaps. The projection can be changed using the `projection` argument. The available projections [can be found here](https://scitools.org.uk/cartopy/docs/latest/reference/projections.html#cartopy-projections). The `transform` argument should be used to specify the data coordinate system. If a transform is not provided, figanos will look for dimensions named 'lat' and 'lon' or 'rlat' and 'rlon' and return the `ccrs.PlateCaree()` or `ccrs.RotatedPole()` transforms, respectively.\n",
    "\n",
    "Features can also be added to the map by passing the names of the [cartopy pre-defined features](https://scitools.org.uk/cartopy/docs/v0.14/matplotlib/feature_interface.html) in a list via the `features` argument (case-insensitively). A nested dictionary can also be passed to `features` in order to apply modifiers to these features, for instance `features = {'coastline': {'scale': '50m', 'color':'grey'}}`.\n",
    "\n",
    "The gridmap() function only accepts one object in its `data` argument, inside a dictionary or not. Datasets are accepted, but only their first variable will be plotted."
   ]
  },
  {
   "cell_type": "code",
   "execution_count": null,
   "id": "4",
   "metadata": {},
   "outputs": [],
   "source": [
    "fg.gridmap(\n",
    "    ds_space,\n",
    "    features=[\"coastline\", \"ocean\"],\n",
    "    frame=True,\n",
    "    show_time=\"lower left\",\n",
    ")"
   ]
  },
  {
   "cell_type": "code",
   "execution_count": null,
   "id": "5",
   "metadata": {
    "nbsphinx": "hidden"
   },
   "outputs": [],
   "source": [
    "# plt.savefig(\"images/basic_map.png\", bbox_inches='tight')"
   ]
  },
  {
   "cell_type": "markdown",
   "id": "6",
   "metadata": {},
   "source": [
    "### Colormaps and colorbars\n",
    "\n",
    "The colormap used to display the plots with gridmap() is directly dependent on three arguments:\n",
    "\n",
    "* `cmap` accepts colormap objects or strings. Strings passed can either be names of matplotlib colormaps or names of the IPCC-prescribed colormaps (see cell below). The colormaps are built from RGB data found in the [IPCC-WG1 GitHub repository](https://github.com/IPCC-WG1/colormaps). Any colormap specified as a string can be reversed by adding '_r' to the end of the string.\n",
    "\n",
    "* `divergent` dictates whether the colormap will be sequential or divergent. If a number (integer or float) is provided, it becomes the center of the colormap. The default central value is 0.\n",
    "\n",
    "* `levels=N` will create a discrete colormap of N levels. Otherwise, the colormap will be continuous.\n",
    "\n",
    " By default, if `cmap=None`, figanos will look for certain variable names in the attributes of the DataArray (`da.name` and `da.history`, in this order) and return a colormap corresponding to the 'group' of this variable, following the [IPCC visual style guide's scheme](https://www.ipcc.ch/site/assets/uploads/2022/09/IPCC_AR6_WGI_VisualStyleGuide_2022.pdf) (see page 11). The groups are displayed in the table below.\n",
    "\n",
    "|Variable Group|Matching strings|\n",
    "|:------------:|:--------------:|\n",
    "| Temperature (temp)        | _tas, tasmin, tasmax, tdps, tg, tn, tx_|\n",
    "|Precipitation (prec)        |_pr, prc, hurs, huss, rain,<br>precip, precipitation, humidity, evapotranspiration_|\n",
    "|Wind (wind)        |_sfcWind, ua, uas, vas_|\n",
    "|Cryosphere (cryo)        |_snw, snd, prsn, siconc, ice_|\n",
    "\n",
    "Note: The strings shown above will not be recognized as variables if they are part of a longer word, for example, 'tas' in 'fantastic'.\n",
    "\n",
    " When none of the variables names match a group, or when multiple matches are found, the function resorts to the ['Batlow' colormap](https://www.fabiocrameri.ch/batlow/).\n",
    "\n",
    "\n"
   ]
  },
  {
   "cell_type": "code",
   "execution_count": null,
   "id": "7",
   "metadata": {},
   "outputs": [],
   "source": [
    "from figanos import data\n",
    "import json\n",
    "from pathlib import Path\n",
    "import matplotlib\n",
    "\n",
    "with data().joinpath(\"ipcc_colors\").joinpath(\"variable_groups.json\").open(encoding=\"utf-8\") as f:\n",
    "    var_dict = json.load(f)\n",
    "\n",
    "for f in sorted(data().joinpath(\"ipcc_colors/continuous_colormaps_rgb_0-255\").glob(\"*\")):\n",
    "    name = Path(f).name.replace(\".txt\", \"\")\n",
    "    cmap = fg.utils.create_cmap(filename=name)\n",
    "    fig = plt.figure()\n",
    "    ax = fig.add_axes([0.05, 0.80, 0.9, 0.1])\n",
    "    cb = matplotlib.colorbar.ColorbarBase(ax, orientation=\"horizontal\", cmap=cmap)\n",
    "    cb.outline.set_visible(False)\n",
    "    cb.ax.set_xticklabels([])\n",
    "    split = name.split(\"_\")\n",
    "    var = split[0] + (split[2] if len(split) == 3 else \"\")\n",
    "    kw = [k for k, v in var_dict.items() if v == var]\n",
    "    # plt.title(f\"name: {name} \\n keywords: {kw}\", wrap=True)\n",
    "    plt.figtext(\n",
    "        0.5,\n",
    "        0.95 + (0.04 * int(len(kw) / 10)),\n",
    "        f\"name: {name}\",\n",
    "        fontsize=15,\n",
    "        ha=\"center\",\n",
    "    )\n",
    "    plt.figtext(0.5, 0.91, f\"keywords: {kw}\", fontsize=10, ha=\"center\", wrap=True)"
   ]
  },
  {
   "cell_type": "code",
   "execution_count": null,
   "id": "8",
   "metadata": {},
   "outputs": [],
   "source": [
    "# Change the name of our DataArray for one that includes 'pr' (precipitation) - this is still the same temperature data\n",
    "da_pr = ds_space.tx_max_p50.copy()\n",
    "da_pr.name = \"pr_max_p50\"\n",
    "\n",
    "# Create a diverging colormap with 8 levels, centered at 300\n",
    "ax = fg.gridmap(\n",
    "    da_pr,\n",
    "    divergent=300,\n",
    "    levels=8,\n",
    "    plot_kw={\"cbar_kwargs\": {\"label\": \"precipitation\"}},\n",
    ")\n",
    "ax.set_title(\"This is still temperature data,\\nbut let's pretend.\")"
   ]
  },
  {
   "cell_type": "markdown",
   "id": "9",
   "metadata": {},
   "source": [
    "**Note**: Using the `levels` argument will result in a colormap that is split evenly across the span of the data, without consideration for how 'nice' the intervals are (i.e. the boundaries of the different colors will often fall on numbers with some decimals, that might be totally significant to an audience). To obtain 'nice' intervals, it is possible to use the `levels` argument in `plot_kw`. This might however, and often, result in the number of levels not being exactly the one that is specified. Using both arguments is not recommended."
   ]
  },
  {
   "cell_type": "code",
   "execution_count": null,
   "id": "10",
   "metadata": {},
   "outputs": [],
   "source": [
    "# Create the same map, with 'nice' levels.\n",
    "ax = fg.gridmap(\n",
    "    da_pr,\n",
    "    divergent=300,\n",
    "    plot_kw={\"levels\": 8, \"cbar_kwargs\": {\"label\": None}},\n",
    "    show_time=(0.85, 0.8),\n",
    ")\n",
    "ax.set_title(\"This cmap has 6 levels instead of 8,\\nbut aren't they nice?\")"
   ]
  },
  {
   "cell_type": "markdown",
   "id": "11",
   "metadata": {},
   "source": [
    "It is also possible to specify your own levels by passing a list to `plot_kw['levels']."
   ]
  },
  {
   "cell_type": "code",
   "execution_count": null,
   "id": "12",
   "metadata": {},
   "outputs": [],
   "source": [
    "ax = fg.plot.gridmap(\n",
    "    da_pr,\n",
    "    plot_kw={\"levels\": [290, 294, 298, 302], \"cbar_kwargs\": {\"label\": None}},\n",
    ")\n",
    "ax.set_title(\"Custom levels\")\n",
    "fg.utils.plot_logo(ax, loc=(0, 0.85), **{\"zoom\": 0.08})"
   ]
  },
  {
   "cell_type": "code",
   "execution_count": null,
   "id": "13",
   "metadata": {},
   "outputs": [],
   "source": [
    "# Create a custom colour map (refer to https://matplotlib.org/stable/tutorials/colors/colormap-manipulation.html#directly-creating-a-segmented-colormap-from-a-list)\n",
    "from matplotlib.colors import LinearSegmentedColormap\n",
    "\n",
    "custom_colors = [\"darkorange\", \"gold\", \"lawngreen\", \"lightseagreen\"]\n",
    "custom_cmap = LinearSegmentedColormap.from_list(\"mycmap\", custom_colors)\n",
    "ax = fg.gridmap(\n",
    "    da_pr,\n",
    "    divergent=300,\n",
    "    cmap=custom_cmap,\n",
    "    plot_kw={\"levels\": 8, \"cbar_kwargs\": {\"label\": None}},\n",
    "    show_time=(0.85, 0.8),\n",
    ")\n",
    "ax.set_title(\"Custom cmap\")"
   ]
  },
  {
   "cell_type": "markdown",
   "id": "14",
   "metadata": {},
   "source": [
    "### pcolormesh vs contourf\n",
    "\n",
    "By default, xarray plots two-dimensional DataArrays using the matplotlib pcolormesh function (see [xarray.plot.pcolormesh](https://docs.xarray.dev/en/stable/generated/xarray.plot.pcolormesh.html#xarray.plot.pcolormesh)). The `contourf` argument in gridmap allows the user to use [xarray.plot.contourf](https://docs.xarray.dev/en/stable/generated/xarray.plot.contourf.html?highlight=xarray.plot.contourf) function instead. This also implies the key-value pairs passed in `plot_kw` are passed to these functions.\n",
    "\n",
    "At large scales, both of these functions create practically equivalent plots. However, their inner workings are inherently different, and these different ways of plotting data become apparent at small scales.\n",
    "\n",
    "When using `contourf`, passing a value in `levels` is equivalent to passing it in `plot_kw['levels']`, meaning the number of levels on the plot might not be exactly the specified value."
   ]
  },
  {
   "cell_type": "code",
   "execution_count": null,
   "id": "15",
   "metadata": {},
   "outputs": [],
   "source": [
    "zoomed = ds_space[\"tx_max_p50\"].sel(lat=slice(44, 46), lon=slice(-65, -60))\n",
    "\n",
    "fig, axs = plt.subplots(1, 2, figsize=(10, 6), subplot_kw={\"projection\": ccrs.LambertConformal()})\n",
    "fg.gridmap(\n",
    "    ax=axs[0],\n",
    "    data=zoomed,\n",
    "    contourf=False,\n",
    "    plot_kw={\"levels\": 10, \"add_colorbar\": False},\n",
    ")\n",
    "axs[0].set_title(\"pcolormesh\")\n",
    "fg.gridmap(\n",
    "    ax=axs[1],\n",
    "    data=zoomed,\n",
    "    contourf=True,\n",
    "    plot_kw={\"levels\": 10, \"cbar_kwargs\": {\"shrink\": 0.5, \"label\": None}},\n",
    ")\n",
    "axs[1].set_title(\"contourf\")"
   ]
  },
  {
   "cell_type": "markdown",
   "id": "16",
   "metadata": {},
   "source": [
    "## Station Data on Maps\n",
    "\n",
    "Data that is georeferenced by coordinates (e.g. latitude and longitude) but is not on a grid can be plotted using the scattermap function. This function is practically identical to `gridmap()`, but introduces some new arguments (see examples below). The function essentially builds a basemap using cartopy and calls `plt.scatter()` to plot the data."
   ]
  },
  {
   "cell_type": "code",
   "execution_count": null,
   "id": "17",
   "metadata": {},
   "outputs": [],
   "source": [
    "# Create a fictional observational dataset from scratch\n",
    "names = [\"station_\" + str(i) for i in np.arange(10)]\n",
    "lat = 45 + np.random.rand(10) * 3\n",
    "lon = np.linspace(-76, -70, 10)\n",
    "tas = 20 + np.random.rand(10) * 7\n",
    "tas[9] = np.nan\n",
    "yrs = 10 + 30 * np.random.rand(10)\n",
    "yrs[0] = np.nan\n",
    "\n",
    "attrs = {\n",
    "    \"units\": \"degC\",\n",
    "    \"standard_name\": \"air_temperature\",\n",
    "    \"long_name\": \"Near-Surface Daily Maximum Air Temperature\",\n",
    "}\n",
    "\n",
    "tas = xr.DataArray(\n",
    "    data=tas,\n",
    "    coords={\n",
    "        \"station\": names,\n",
    "        \"lat\": (\"station\", lat),\n",
    "        \"lon\": (\"station\", lon),\n",
    "        \"years\": (\"station\", yrs),\n",
    "    },\n",
    "    dims=[\"station\"],\n",
    "    attrs=attrs,\n",
    ")\n",
    "tas.name = \"tas\"\n",
    "tas = tas.to_dataset()\n",
    "tas.attrs[\"description\"] = \"Observations\"\n",
    "\n",
    "# Set nice features\n",
    "features = {\n",
    "    \"land\": {\"color\": \"#f0f0f0\"},\n",
    "    \"rivers\": {\"edgecolor\": \"#cfd3d4\"},\n",
    "    \"lakes\": {\"facecolor\": \"#cfd3d4\"},\n",
    "    \"coastline\": {\"edgecolor\": \"black\"},\n",
    "}\n",
    "\n",
    "# Plot\n",
    "ax = fg.scattermap(\n",
    "    tas,\n",
    "    sizes=\"years\",\n",
    "    size_range=(15, 100),\n",
    "    divergent=23.5,\n",
    "    features=features,\n",
    "    plot_kw={\n",
    "        \"edgecolor\": \"black\",\n",
    "    },\n",
    "    fig_kw={\"figsize\": (9, 6)},\n",
    "    legend_kw={\"loc\": \"lower left\", \"title\": \"Number of years of data\"},\n",
    ")"
   ]
  },
  {
   "cell_type": "code",
   "execution_count": null,
   "id": "18",
   "metadata": {
    "nbsphinx": "hidden"
   },
   "outputs": [],
   "source": [
    "# plt.savefig(\"images/station_map.png\", bbox_inches='tight')"
   ]
  },
  {
   "cell_type": "markdown",
   "id": "19",
   "metadata": {},
   "source": [
    "It is possible to plot observations on top of gridded data by calling both `gridmap()` and `scattermap()` and fixing the colormap limits (`vmin` and `vmax`), like demonstrated below."
   ]
  },
  {
   "cell_type": "code",
   "execution_count": null,
   "id": "20",
   "metadata": {},
   "outputs": [],
   "source": [
    "# defining our limits\n",
    "vmin = 20\n",
    "vmax = 35\n",
    "\n",
    "# plotting the gridded data\n",
    "ax = fg.gridmap(\n",
    "    ds_space - 273.15,\n",
    "    plot_kw={\"vmin\": vmin, \"vmax\": vmax, \"add_colorbar\": False},\n",
    "    features=[\"coastline\", \"ocean\"],\n",
    "    show_time=\"lower right\",\n",
    ")\n",
    "ax.set_extent([-76.5, -69, 44.5, 52], crs=ccrs.PlateCarree())  # equivalent to set_xlim and set_ylim for projections\n",
    "\n",
    "# plotting the observations\n",
    "fg.scattermap(\n",
    "    tas,\n",
    "    ax=ax,\n",
    "    transform=ccrs.PlateCarree(),\n",
    "    plot_kw={\"vmin\": vmin, \"vmax\": vmax, \"edgecolor\": \"grey\"},\n",
    ")"
   ]
  },
  {
   "cell_type": "code",
   "execution_count": null,
   "id": "21",
   "metadata": {
    "nbsphinx": "hidden"
   },
   "outputs": [],
   "source": [
    "# plt.savefig(\"images/station+grid_map.png\", bbox_inches='tight')"
   ]
  },
  {
   "cell_type": "markdown",
   "id": "22",
   "metadata": {},
   "source": [
    "## Hatching on Maps\n",
    "The hatchmap function plots hatches on top of a map. It is a thin wrap around the [plt.contourf()](https://matplotlib.org/stable/api/_as_gen/matplotlib.pyplot.contourf.html) function, with very similar functionality to `gridmap()` and similar data arguments to `timeseries()`. It can be overlaid on top of a map created with `gridmap()` as shown below. `hatchmap` can also be used with [plt.contourf()](https://matplotlib.org/stable/api/_as_gen/matplotlib.pyplot.contourf.html) levels in plot_kw."
   ]
  },
  {
   "cell_type": "code",
   "execution_count": null,
   "id": "23",
   "metadata": {
    "nbsphinx": "hidden"
   },
   "outputs": [],
   "source": [
    "# from xclim import ensembles\n",
    "# import xscen as xs\n",
    "# urls = ['https://pavics.ouranos.ca/twitcher/ows/proxy/thredds/dodsC/birdhouse/ouranos/portraits-clim-1.1/NorESM1-M_rcp85_prcptot_monthly.nc',\n",
    "#         'https://pavics.ouranos.ca/twitcher/ows/proxy/thredds/dodsC/birdhouse/ouranos/portraits-clim-1.1/MPI-ESM-LR_rcp85_prcptot_monthly.nc',\n",
    "#         'https://pavics.ouranos.ca/twitcher/ows/proxy/thredds/dodsC/birdhouse/ouranos/portraits-clim-1.1/IPSL-CM5B-LR_rcp85_prcptot_monthly.nc',\n",
    "#         ]\n",
    "# ens = ensembles.create_ensemble(urls)\n",
    "# fut = ens.sel(time=slice(\"2020\", \"2050\")).prcptot\n",
    "# ref = ens.sel(time=slice(\"1990\", \"2020\")).prcptot\n",
    "# chng_f= ensembles.robustness_fractions(\n",
    "#     fut, ref, test=\"threshold\", abs_thresh=2\n",
    "# ).changed\n",
    "# sup_8 = chng_f.where(chng_f>0.8).to_dataset()\n",
    "# inf_5 = chng_f.where(chng_f<0.5).to_dataset()\n",
    "\n",
    "# ens_stats = ensembles.ensemble_mean_std_max_min(ens)\n",
    "\n",
    "# out=ens_stats.prcptot_mean.mean(dim='time', keep_attrs='True').to_dataset()\n",
    "# xs.save_to_netcdf(out, '../../src/figanos/data/test_data/hatchmap-ens_stats.nc')\n",
    "# xs.save_to_netcdf(sup_8, '../../src/figanos/data/test_data/hatchmap-sup_8.nc')\n",
    "# xs.save_to_netcdf(inf_5, '../../src/figanos/data/test_data/hatchmap-inf_5.nc')"
   ]
  },
  {
   "cell_type": "code",
   "execution_count": null,
   "id": "24",
   "metadata": {},
   "outputs": [],
   "source": [
    "from figanos import pitou\n",
    "\n",
    "# Helper function for loading testing data\n",
    "p = pitou()\n",
    "\n",
    "ens_stats = xr.open_dataset(p.fetch(\"hatchmap-ens_stats.nc\")).prcptot_mean\n",
    "sup_8 = xr.open_dataset(p.fetch(\"hatchmap-sup_8.nc\")).changed\n",
    "inf_5 = xr.open_dataset(p.fetch(\"hatchmap-inf_5.nc\")).changed\n",
    "\n",
    "ax = fg.gridmap(ens_stats, features=[\"coastline\", \"ocean\"], frame=True)\n",
    "\n",
    "fg.hatchmap(\n",
    "    {\"Over 0.8\": sup_8, \"Under 0.5\": inf_5},\n",
    "    ax=ax,\n",
    "    plot_kw={\"Over 0.8\": {\"hatches\": \"*\"}},\n",
    "    features=[\"coastline\", \"ocean\"],\n",
    "    frame=True,\n",
    "    legend_kw={\"title\": \"Ensemble change\"},\n",
    ")\n",
    "ax.set_title(\"Ensemble plot - hatchmap and gridmap\")"
   ]
  },
  {
   "cell_type": "code",
   "execution_count": null,
   "id": "25",
   "metadata": {
    "nbsphinx": "hidden"
   },
   "outputs": [],
   "source": [
    "# plt.savefig(\"images/hatch_map.png\", bbox_inches='tight')"
   ]
  },
  {
   "cell_type": "markdown",
   "id": "26",
   "metadata": {},
   "source": [
    "## GeoDataFrame on Maps\n",
    "\n",
    "The gdfmap function plots geometries contained in a GeoPandas [GeoDataFrame](https://geopandas.org/en/stable/docs/user_guide/data_structures.html#geodataframe) on maps. It is a thin wrapper around the [GeoDataFrame.plot()](https://geopandas.org/en/stable/docs/reference/api/geopandas.GeoDataFrame.plot.html#geopandas.GeoDataFrame.plot) method, with very similar functionality to `gridmap()` and most of the same features.\n",
    "\n",
    "To use this function, the data to be linked to the colormap has to be included in the GeoDataFrame. Its name (as a string) must be passed to the `df_col` argument. Like described above, if the `cmap` argument is `None`, the function will look for common variable names in the name of this column, and use an appropriate colormap if a match is found."
   ]
  },
  {
   "cell_type": "code",
   "execution_count": null,
   "id": "27",
   "metadata": {},
   "outputs": [],
   "source": [
    "import geopandas as gpd\n",
    "\n",
    "qc_bound = gpd.read_file(\n",
    "    \"https://pavics.ouranos.ca/geoserver/public/ows?service=WFS&version=1.0.0&request=GetFeature&typeName=public%3Aquebec_admin_boundaries&maxFeatures=50&outputFormat=application%2Fjson\"\n",
    ")\n",
    "qc_bound[\"pr\"] = qc_bound[\"RES_CO_REG\"].astype(float)  # create fake precipitation data\n",
    "\n",
    "ax = fg.gdfmap(\n",
    "    qc_bound,\n",
    "    \"pr\",\n",
    "    levels=16,\n",
    "    plot_kw={\"legend_kwds\": {\"label\": \"Fake precipitation (fake units)\"}},\n",
    ")"
   ]
  },
  {
   "cell_type": "code",
   "execution_count": null,
   "id": "28",
   "metadata": {
    "nbsphinx": "hidden"
   },
   "outputs": [],
   "source": [
    "# plt.savefig(\"images/gdf_map.png\", bbox_inches='tight')"
   ]
  },
  {
   "cell_type": "markdown",
   "id": "29",
   "metadata": {},
   "source": [
    "Projections can be used like in `gridmap()`, although some of the Cartopy projections might lead to unexpected results due to the interaction between Cartopy and GeoPandas, especially when the whole globe is plotted.\n",
    "\n",
    "Also note that the colorbar parameters have to be accessed through the `legend_kwds` argument of [GeoDataFrame.plot()](https://geopandas.org/en/stable/docs/reference/api/geopandas.GeoDataFrame.plot.html#geopandas.GeoDataFrame.plot)."
   ]
  },
  {
   "cell_type": "code",
   "execution_count": null,
   "id": "30",
   "metadata": {},
   "outputs": [],
   "source": [
    "r = gpd.read_file(\n",
    "    \"https://www.donneesquebec.ca/recherche/dataset/11a317d0-97a2-4896-85b5-4cb26ccf5dc6/resource/4c6fe152-8c82-4d36-a8e0-9b584b9cde18/download/cours-eau-v3r.json\"\n",
    ")\n",
    "ax = fg.gdfmap(\n",
    "    r,\n",
    "    \"OBJECTID\",\n",
    "    cmap=\"cool\",\n",
    "    projection=ccrs.Mercator(),\n",
    "    features={\"ocean\": {\"color\": \"#a2bdeb\"}},\n",
    "    plot_kw={\"legend_kwds\": {\"orientation\": \"vertical\"}},\n",
    "    frame=True,\n",
    ")\n",
    "ax.set_title(\"Waterways of Trois-Rivières\")"
   ]
  },
  {
   "cell_type": "code",
   "execution_count": null,
   "id": "31",
   "metadata": {
    "nbsphinx": "hidden"
   },
   "outputs": [],
   "source": [
    "# plt.savefig(\"images/gdf2_map.png\", bbox_inches='tight')"
   ]
  }
 ],
 "metadata": {
  "celltoolbar": "Edit Metadata",
  "kernelspec": {
   "display_name": "Python 3 (ipykernel)",
   "language": "python",
   "name": "python3"
  },
  "language_info": {
   "codemirror_mode": {
    "name": "ipython",
    "version": 3
   },
   "file_extension": ".py",
   "mimetype": "text/x-python",
   "name": "python",
   "nbconvert_exporter": "python",
   "pygments_lexer": "ipython3",
   "version": "3.11.8"
  }
 },
 "nbformat": 4,
 "nbformat_minor": 5
}
