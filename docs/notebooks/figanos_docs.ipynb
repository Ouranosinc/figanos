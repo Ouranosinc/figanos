{
 "cells": [
  {
   "cell_type": "markdown",
   "id": "36d91e3e",
   "metadata": {},
   "source": [
    "# Getting started\n",
    "Figanos enables the creation of common climate data plots.\n",
    "\n"
   ]
  },
  {
   "cell_type": "markdown",
   "id": "6b89a37c",
   "metadata": {},
   "source": [
    "## Overview\n",
    "\n",
    "Figanos is a dictionary-based function interface that wraps [Matplotlib](https://matplotlib.org/) and [Xarray](https://docs.xarray.dev/en/stable/) plotting functions to create common climate data plots. Its inputs are most commonly xarray DataArrays or Datasets, and it is best used when these arrays are the output of workflows incorporating [Xscen](https://github.com/Ouranosinc/xscen) and/or [Xclim](https://xclim.readthedocs.io/en/stable/). Style-wise, the plots follow the general guidelines offered by the [IPCC visual style guide 2022](https://www.ipcc.ch/site/assets/uploads/2022/09/IPCC_AR6_WGI_VisualStyleGuide_2022.pdf), but aim to create a look that could be distinctively associated with [Ouranos](https://www.ouranos.ca/en). The [Figanos Github repository](https://github.com/Ouranosinc/figanos) hosts the files needed to install the package, as well as the dependencies and requirements.\n",
    "\n",
    "Figanos currently includes the following functions:\n",
    "\n",
    "1. **timeseries()**: Creates time series as line plots.\n",
    "2. **gridmap()**: Plots gridded georeferenced data on a map.\n",
    "3. **hatchmap()**: Plots hatched areas on a map.\n",
    "4. **scattermap()**: Make a scatter plot of georeferenced data on a map.\n",
    "5. **gdfmap()**: Plots geometries (through a GeoDataFrame) on a map.\n",
    "6. **stripes()**: Create climate stripe diagrams.\n",
    "7. **violin()**: Create seaborn violin plots with extra options.\n",
    "8. **heatmap()**: Create seaborn heatmaps with extra options.\n",
    "9. **taylordiagram()**: Create Taylor diagram.\n",
    "\n",
    "The following features are also included in the package:\n",
    "\n",
    "* Automatically recognizes some common data structures (e.g. climate ensembles) using variable and coordinate names and creates the appropriate plots.\n",
    "* Automatically links attributes from xarray objects to plot elements (title, axes), with customization options.\n",
    "* Automatically assigns colors to some common variables and, following the IPCC visual guidelines.\n",
    "* Provides options to visually enhance the plots, and includes a default style to ensure coherence when creating multiple plots.\n",
    "* Returns a [matplotlib axes object](https://matplotlib.org/stable/api/_as_gen/matplotlib.axes.Axes.html#matplotlib.axes.Axes) that is fully customizeable through matplotlib functions and methods.\n"
   ]
  },
  {
   "cell_type": "markdown",
   "id": "89b1adb7",
   "metadata": {},
   "source": [
    "## Preparing the data\n",
    "\n",
    "Figanos only accepts [xarray DataArrays or Datasets](https://docs.xarray.dev/en/stable/user-guide/data-structures.html) as data inputs. As a general rule, figanos functions will not accomplish any data processing or cleaning tasks - the object(s) passed to the functions should therefore only contain the data that will appear on the graph and the metadata that supports it.\n",
    "\n",
    "To create, for instance, a time series plot from a NetCDF file, the following preparation steps have to be taken:"
   ]
  },
  {
   "cell_type": "code",
   "execution_count": null,
   "id": "6f697c91",
   "metadata": {},
   "outputs": [],
   "source": [
    "%load_ext autoreload\n",
    "%autoreload 2\n",
    "\n",
    "# import necessary libraries\n",
    "import xarray as xr\n",
    "import matplotlib.pyplot as plt\n",
    "import matplotlib\n",
    "import numpy as np\n",
    "import cartopy.crs as ccrs\n",
    "import xclim as xc\n",
    "from xclim import sdba\n",
    "\n",
    "import figanos.matplotlib as fg\n",
    "from figanos import Logos"
   ]
  },
  {
   "cell_type": "code",
   "execution_count": null,
   "id": "bfe86b82",
   "metadata": {},
   "outputs": [],
   "source": [
    "# create xarray object from a NetCDF\n",
    "url = 'https://pavics.ouranos.ca//twitcher/ows/proxy/thredds/dodsC/birdhouse/disk2/cccs_portal/indices/Final/BCCAQv2_CMIP6/tx_max/YS/ssp585/ensemble_percentiles/tx_max_ann_BCCAQ2v2+ANUSPLIN300_historical+ssp585_1950-2100_30ymean_percentiles.nc'\n",
    "opened = xr.open_dataset(url, decode_timedelta=False)\n",
    "\n",
    "# select a location\n",
    "ds_time = opened.isel(lon=500, lat=250)\n",
    "# select only the variables containing the data to be plotted\n",
    "ds_time = ds_time[['tx_max_p50', 'tx_max_p10', 'tx_max_p90']]\n",
    "\n",
    "ds_time"
   ]
  },
  {
   "cell_type": "markdown",
   "id": "87e2ac9b",
   "metadata": {},
   "source": [
    "## Using the Ouranos stylesheet\n",
    "\n",
    "Most parameters affecting the style of plots can be set through matplotlib stylesheets. Figanos includes custom stylesheets that can be accessed through the set_mpl_style() function. Paths to your own stylesheets ('.mplstyle' extension) can also be passed to this function. To use the built-in matplotlib styles, use `mpl.style.use()`.\n",
    "\n",
    "The currently available stylesheets are as follows:\n",
    "\n",
    "* ouranos: General stylesheet, including default colors."
   ]
  },
  {
   "cell_type": "code",
   "execution_count": null,
   "id": "895bd6da",
   "metadata": {},
   "outputs": [],
   "source": [
    "# use ouranos style\n",
    "fg.utils.set_mpl_style('ouranos')\n",
    "\n",
    "#setup notebook\n",
    "%matplotlib inline\n",
    "%config InlineBackend.print_figure_kwargs = {'bbox_inches':'tight'}"
   ]
  },
  {
   "cell_type": "code",
   "execution_count": null,
   "id": "2f6f2c3d",
   "metadata": {},
   "outputs": [],
   "source": [
    "#display the cycler colors\n",
    "from matplotlib.patches import Rectangle\n",
    "\n",
    "style_colors = matplotlib.rcParams[\"axes.prop_cycle\"].by_key()[\"color\"]\n",
    "\n",
    "fig, ax = plt.subplots(figsize=(10,3))\n",
    "for color, x in zip(style_colors, np.arange(0, len(style_colors)*2, 2)):\n",
    "    ax.add_patch(\n",
    "    Rectangle(xy=(x, 1),width=0.8,height=0.5,\n",
    "              facecolor=color)\n",
    "    )\n",
    "    ax.text(x, 0.5, str(color), color=color)\n",
    "\n",
    "ax.set_ylim(0,2)\n",
    "ax.set_xlim(0,14)\n",
    "ax.set_aspect('equal')\n",
    "ax.set_axis_off()"
   ]
  },
  {
   "cell_type": "markdown",
   "id": "4dac5fe2",
   "metadata": {},
   "source": [
    "## Timeseries\n",
    "\n",
    "The [**timeseries()**](#timeseries) function accepts DataArrays or Datasets. When only one object is passed to the function, using a dictionary is optional. Selecting one of the variables from our Dataset creates a DataArray (one line)."
   ]
  },
  {
   "cell_type": "code",
   "execution_count": null,
   "id": "dcb83cfa",
   "metadata": {},
   "outputs": [],
   "source": [
    "fg.timeseries(ds_time.tx_max_p50)"
   ]
  },
  {
   "cell_type": "markdown",
   "id": "bd9d1c97",
   "metadata": {},
   "source": [
    "### Using the dictionary interface"
   ]
  },
  {
   "cell_type": "markdown",
   "id": "e69d550c",
   "metadata": {},
   "source": [
    "\n",
    "The main elements of a plot are dependent on four arguments, each accepting dictionaries:\n",
    "\n",
    "1. `data` : a dictionary containing the Xarray objects and their respective keys, used as labels on the plot.\n",
    "2. `use_attrs`: a dictionary linking attributes from the Xarray object to plot text elements.\n",
    "3. `fig_kw`: a dictionary to pass arguments to the `plt.figure()` instance.\n",
    "4. `plot_kw` : a dictionary using the same keys as `data` to pass arguments to the underlying plotting function, in this case [matplotlib.axes.Axes.plot](https://matplotlib.org/stable/api/_as_gen/matplotlib.axes.Axes.plot.html).\n",
    "\n",
    "When labels are passed in `data`, any 'label' argument passed in `plot_kw` will be ignored."
   ]
  },
  {
   "cell_type": "code",
   "execution_count": null,
   "id": "d47831e8",
   "metadata": {},
   "outputs": [],
   "source": [
    "my_data = {'50th percentile': ds_time.tx_max_p50, '90th percentile': ds_time.tx_max_p90}\n",
    "my_attrs = {'ylabel': 'standard_name'} # will look for an attribute 'standard name' in the first entry of my_data\n",
    "plot_kws = {'90th percentile': {'linestyle': '--'}}\n",
    "\n",
    "fg.timeseries(my_data,\n",
    "              use_attrs = my_attrs,\n",
    "              plot_kw = plot_kws,\n",
    "              show_lat_lon=False\n",
    "             )"
   ]
  },
  {
   "cell_type": "markdown",
   "id": "61e03b90",
   "metadata": {},
   "source": [
    "### Customizing plots\n",
    "\n",
    "Plots created with Figanos can be customized in two different ways:\n",
    "\n",
    "1. By using the built-in options through arguments (e.g. changing the type of legend with the `legend` arg).\n",
    "2. By creating a Matplotlib Axes class and using its methods (e.g. setting a new title with `ax.set_title()`).\n",
    "\n",
    "Both of these types of customization are demonstrated below. In some cases, both methods can achieve the same result."
   ]
  },
  {
   "cell_type": "code",
   "execution_count": null,
   "id": "85cc5d6f",
   "metadata": {},
   "outputs": [],
   "source": [
    "ax = fg.timeseries(my_data, show_lat_lon=\"upper left\", legend='edge') # fun legend option, moved latitude and longitude tag\n",
    "ax.set_title('Custom Title', loc='left') #when the title is left aligned, the \"loc=left\" argument must be used.\n",
    "                                         # to remove a title, use ax.set_title('')\n",
    "ax.set_xlabel('Custom xlabel')\n",
    "ax.set_ylabel('Custom ylabel')\n",
    "ax.grid(False) # removing the gridlines\n",
    "ax.set_yticks([300,310]) # Custom yticks"
   ]
  },
  {
   "cell_type": "markdown",
   "id": "3c6181b5",
   "metadata": {},
   "source": [
    "#### Logos\n",
    "\n",
    "Logos can also be added to plots if desired using the `fignos.utils.plot_logo()` function. This function requires that logos are passed as `pathlib.Path` objects or installed and called by their name (as `str`).\n",
    "\n",
    "Figanos offers the `Logos()` convenience class for setup and management of logos so that they can be reused as needed. `Logos` can be used to set default logos as well as install custom logos, if desired. Logo files are saved to the user's config folder so that they can be reused.\n",
    "\n",
    "By default, the `figanos_logo.png` is installed on initialization, while the Ouranos set of logos can be installed if desired.\n",
    "\n",
    "For more information on logos, see the [Logos](../usage.rst#logo-management) documentation."
   ]
  },
  {
   "cell_type": "code",
   "execution_count": null,
   "id": "728449fe",
   "metadata": {},
   "outputs": [],
   "source": [
    "# Installing the default logos\n",
    "l = Logos()\n",
    "print(f\"Default logo is found at: {l.default}.\")\n",
    "\n",
    "# Installing the Ouranos logos\n",
    "l.install_ouranos_logos(permitted=True)\n",
    "\n",
    "# Show all installed logos\n",
    "l.installed()"
   ]
  },
  {
   "cell_type": "code",
   "execution_count": null,
   "id": "e4f44c5f",
   "metadata": {},
   "outputs": [],
   "source": [
    "# To set a new default logo we can simply use an existing entry\n",
    "l.set_logo(l.logo_ouranos_horizontal_couleur, \"default\")\n",
    "print(f\"Default logo is found at: {l.default}\")\n",
    "l.set_logo(l.logo_ouranos_vertical_couleur, \"my_custom_logo\")\n",
    "print(f\"my_custom_logo installed at: {l.my_custom_logo}.\")\n",
    "\n",
    "# Show all installed logos\n",
    "l.installed()"
   ]
  },
  {
   "cell_type": "markdown",
   "id": "4af863ca3c6120cf",
   "metadata": {},
   "source": [
    "The required arguments for `fignos.utils.plot_logo()` are a matplotlib axis (`ax`), a location (`loc`) string describing the position of the logo (ex: 'lower left', 'upper right', 'center').\n",
    "\n",
    "The `logo` argument is optional but will accept either a fixed location on disk (as `pathlib.Path`) or a `str` that is mapped to an already-installed logo (e.g. 'my_custom_logo'; If not set, the 'default' logo will be used).\n",
    "\n",
    "Either the `height` or `width` arguments can be used to resize the logo; If both are provided, only one will be used to resize the logo. This behaviour will change if `keep_ratio=False` is passed.\n",
    "\n",
    "The function can also accept keyword arguments that are passed directly to `matplotlib.offsetbox.OffsetImage()`, such as `alpha` (transparency)."
   ]
  },
  {
   "cell_type": "code",
   "execution_count": null,
   "id": "eb7a2ca82ad9d512",
   "metadata": {},
   "outputs": [],
   "source": [
    "ax = fg.timeseries(my_data, show_lat_lon=\"upper left\", legend='edge')\n",
    "\n",
    "# Plotting with the default logo\n",
    "# fg.utils.plot_logo(ax, loc='lower right', alpha=0.8, width=120)\n",
    "\n",
    "# Plotting with a custom logo, resized with pixels\n",
    "fg.utils.plot_logo(\n",
    "    ax, \n",
    "    logo=\"my_custom_logo\",\n",
    "    loc='lower right',\n",
    "    width=100,\n",
    "    alpha=0.8,\n",
    ")"
   ]
  },
  {
   "cell_type": "markdown",
   "id": "8696b1fb-4c9f-42a2-ab00-c1c642e3d338",
   "metadata": {},
   "source": [
    "#### Translation\n",
    "Figanos can automatically use translated version of the attributes to populate the plot. It also knows a few translations of usual terms, for the moment only in French."
   ]
  },
  {
   "cell_type": "code",
   "execution_count": null,
   "id": "76e118b8-e24d-4989-898b-438fbc519b5a",
   "metadata": {},
   "outputs": [],
   "source": [
    "# Populate the example data with french attributes\n",
    "ds_time.tx_max_p50.attrs.update(\n",
    "    description_fr=\"Moyenne 30 ans du Maximum annuel de la température maximale quotidienne, 50e centile de l'ensemble.\",\n",
    "    long_name_fr=\"Moyenne 30 ans du Maximum de la température maximale quotidienne\"\n",
    ")\n",
    "with xc.set_options(metadata_locales=['fr']):\n",
    "    fg.timeseries(ds_time.tx_max_p50)"
   ]
  },
  {
   "cell_type": "markdown",
   "id": "9b5f3a15",
   "metadata": {},
   "source": [
    "### Line plots with Datasets\n",
    "\n",
    "When Datasets are passed to the timeseries function, certain names and data configurations will be recognized and will result in certain kinds of plots.\n",
    "\n",
    "| Dataset configuration | Resulting plot | Notes |\n",
    "|:----------:|:--------------:|:----------------:|\n",
    "|Variables contain a substring of the format \"\\_pNN\", where N are numbers|Shaded line graph with the central line being the middle percentile|\n",
    "|Contains a dimension named \"percentiles\"|Shaded line graph with the central line being the middle percentile| Behaviour is shared with DataArrays containing the same dimension.|\n",
    "|Variables contain \"min\" and \"max\" and \"mean\" (can be capitalized) |Shaded line graph with the central line being the mean|\n",
    "|Contains a dimension named \"realization\"|Line graph with one line per realization | When plot_kw is specified, all realizations within the Dataset will share one style.  Behaviour is shared with DataArrays containing the same dimension.|\n",
    "|Any other Dataset| Line graph with one line per variable||\n",
    "\n"
   ]
  },
  {
   "cell_type": "code",
   "execution_count": null,
   "id": "0250fad8",
   "metadata": {},
   "outputs": [],
   "source": [
    "# Using 'median' as a key to make it the line label in the legend.\n",
    "# legend='full' will create a legend entry for the shaded area\n",
    "fg.plot.timeseries({'median': ds_time}, legend='full', show_lat_lon=False)"
   ]
  },
  {
   "cell_type": "markdown",
   "id": "7bf7a7c5",
   "metadata": {},
   "source": [
    "Whenever multiple lines are plotted from a single Dataset, their legend label will be the concatenation of the Dataset name (its key in the `data` arg.) and the name of the variables or coordinates from which the data is taken, unless the Dataset is passed to the function without a dictionary. When all lines from a Dataset have the same appearance, only the Dataset label will be shown."
   ]
  },
  {
   "cell_type": "code",
   "execution_count": null,
   "id": "0e032b0d",
   "metadata": {},
   "outputs": [],
   "source": [
    "#Create a Dataset with different names as to not trigger the shaded line plot\n",
    "ds_mod = ds_time.copy()\n",
    "ds_mod = ds_mod.rename({'tx_max_p50': 'var1','tx_max_p10': 'var2','tx_max_p90': 'var3'})\n",
    "\n",
    "fg.timeseries({'ds':ds_mod}, show_lat_lon=True)"
   ]
  },
  {
   "cell_type": "markdown",
   "id": "9c98e40a",
   "metadata": {},
   "source": [
    "### Keyword - colour association\n",
    "\n",
    "Following the IPCC visual style guidelines and the practices of many other climate organizations, some scenarios (RCPs, SSPs), models and projects (CMIPs) are associated with specific colors. These colours can be implemented in timeseries() through the keys of the `data` argument. If a formulation of such scenarios or model names is found in a key, the corresponding line will be given the appropriate colour. For scenarios, alternative formats such as _ssp585_ or _rcp45_ are also accepted instead of the more formal _SSP5-8.5_ on _RCP4.5_. Model names do not currently have this flexibility. If multiple matching substrings exist, the following order of priority will dictate which colour is used:\n",
    "\n",
    "1. SSP scenarios\n",
    "2. RCP scenarios\n",
    "3. Model names\n",
    "4. CMIP5 or CMIP6\n",
    "\n",
    "A list of the accepted substrings and colors is shown on the page Colours of Figanos."
   ]
  },
  {
   "cell_type": "code",
   "execution_count": null,
   "id": "03b5ebf9",
   "metadata": {},
   "outputs": [],
   "source": [
    "#creating fake scenarios\n",
    "data = {'tasmax_ssp434': ds_time,\n",
    "        'tasmax_ssp245': ds_time.copy()-10,\n",
    "        'tasmax_ssp585': ds_time.copy()+10}\n",
    "\n",
    "fg.timeseries(data=data, legend='edge', show_lat_lon=False)\n"
   ]
  },
  {
   "cell_type": "markdown",
   "id": "a558c3b7",
   "metadata": {},
   "source": [
    "## Gridded Data on Maps\n",
    "\n",
    "The gridmap function plots gridded data onto maps built using [Cartopy](https://scitools.org.uk/cartopy/docs/latest/) along with xarray plotting functions. The main arguments of the timeseries() functions are also found in gridmap(), but new ones are introduced to handle map projections and colormap/colorbar options.\n",
    "\n",
    "By default, the Lambert Conformal conic projection is used for the basemaps. The projection can be changed using the `projection` argument. The available projections [can be found here](https://scitools.org.uk/cartopy/docs/latest/reference/projections.html#cartopy-projections). The `transform` argument should be used to specify the data coordinate system. If a transform is not provided, figanos will look for dimensions named 'lat' and 'lon' or 'rlat' and 'rlon' and return the `ccrs.PlateCaree()` or `ccrs.RotatedPole()` transforms, respectively.\n",
    "\n",
    "Features can also be added to the map by passing the names of the [cartopy pre-defined features](https://scitools.org.uk/cartopy/docs/v0.14/matplotlib/feature_interface.html) in a list via the `features` argument (case-insensitively). A nested dictionary can also be passed to `features` in order to apply modifiers to these features, for instance `features = {'coastline': {'scale': '50m', 'color':'grey'}}`.\n",
    "\n",
    "The gridmap() function only accepts one object in its `data` argument, inside a dictionary or not. Datasets are accepted, but only their first variable will be plotted."
   ]
  },
  {
   "cell_type": "code",
   "execution_count": null,
   "id": "5321f188",
   "metadata": {},
   "outputs": [],
   "source": [
    "#Selecting a time and slicing our starting Dataset\n",
    "ds_space = opened[['tx_max_p50']].isel(time=0).sel(lat=slice(40,65), lon=slice(-90,-55))\n",
    "\n",
    "# defining our projection.\n",
    "projection = ccrs.LambertConformal()\n",
    "\n",
    "fg.gridmap(ds_space, projection = projection, features = ['coastline','ocean'], frame = True, show_time = 'lower left')"
   ]
  },
  {
   "cell_type": "markdown",
   "id": "6ce05cde",
   "metadata": {},
   "source": [
    "### Colormaps and colorbars\n",
    "\n",
    "The colormap used to display the plots with gridmap() is directly dependent on three arguments:\n",
    "\n",
    "* `cmap` accepts colormap objects or strings.\n",
    "\n",
    "* `divergent` dictates whether or not the colormap will be sequential or divergent. If a number (integer of float) is provided, it becomes the center of the colormap. The default central value is 0.\n",
    "\n",
    "* `levels=N` will create a discrete colormap of N levels. Otherwise, the colormap will be continuous.\n",
    "\n",
    " By default ( if `cmap=None`), figanos will look for certain variable names in the attributes of the DataArray (`da.name` and `da.history`, in this order) and return a colormap corresponding to the 'group' of this variable, following the [IPCC visual style guide's scheme](https://www.ipcc.ch/site/assets/uploads/2022/09/IPCC_AR6_WGI_VisualStyleGuide_2022.pdf) (see page 11). The groups are displayed in the table below.\n",
    "\n",
    "|Variable Group|Matching strings|\n",
    "|:------------:|:--------------:|\n",
    "| Temperature (temp)        | _tas, tasmin, tasmax, tdps, tg, tn, tx_|\n",
    "|Precipitation (prec)        |_pr, prc, hurs, huss, rain,<br>precip, precipitation, humidity, evapotranspiration_|\n",
    "|Wind (wind)        |_sfcWind, ua, uas, vas_|\n",
    "|Cryosphere (cryo)        |_snw, snd, prsn, siconc, ice_|\n",
    "\n",
    "Note: The strings shown above will not be recognized as variables if they are part of a longer word, for example 'tas' in 'fantastic'.\n",
    "\n",
    "The colormaps are built from RGB data be found in the [IPCC-WG1 Github repository](https://github.com/IPCC-WG1/colormaps). When none of the variables names match a group, or when multiple matches are found, the function resorts to the ['Batlow' colormap](https://www.fabiocrameri.ch/batlow/).\n",
    "\n",
    "Strings passed to these arguments can either be names of matplotlib colormaps or names of the IPCC-prescribed colormaps, such as 'temp_div'(divergent colormap for temperature variables) or 'prec_seq.txt' (sequential colormap for precipitation-related variables). Any colormap specified as a string can be reversed by adding '_r' to the end of the string.\n"
   ]
  },
  {
   "cell_type": "code",
   "execution_count": null,
   "id": "c041f793",
   "metadata": {},
   "outputs": [],
   "source": [
    "#change the name of our DataArray for one that inclues 'pr' (precipitation) - this is still the same temperature data\n",
    "da_pr = ds_space.tx_max_p50.copy()\n",
    "da_pr.name = 'pr_max_p50'\n",
    "\n",
    "#diverging colormap with 8 levels, centered at 300\n",
    "ax = fg.gridmap(da_pr, projection=projection, divergent=300, levels=8, plot_kw={'cbar_kwargs':{'label':'precipitation'}})\n",
    "ax.set_title('This is still temperature data,\\nbut let\\'s pretend.')"
   ]
  },
  {
   "cell_type": "markdown",
   "id": "ca5f6285",
   "metadata": {},
   "source": [
    "**Note**: Using the `levels` argument will result in a colormap that is split evenly across the span of the data, without consideration for how 'nice' the intervals are (i.e. the boundaries of the different colors will often fall on numbers with some decimals, that might be totally significant to an audience). To obtain 'nice' intervals, it is possible to use the `levels` argument in `plot_kw`. This might however, and often, result in the number of levels not being exactly the one that is specified. Using both arguments is not recommended."
   ]
  },
  {
   "cell_type": "code",
   "execution_count": null,
   "id": "a9b38551",
   "metadata": {},
   "outputs": [],
   "source": [
    "#creating the same map, with 'nice' levels.\n",
    "ax = fg.gridmap(da_pr, projection=projection, divergent=300,\n",
    "                plot_kw={'levels':8, 'cbar_kwargs':{'label':None}}, show_time=(0.85, 0.8))\n",
    "ax.set_title('This cmap has 6 levels instead of 8,\\nbut aren\\'t they nice?')"
   ]
  },
  {
   "cell_type": "markdown",
   "id": "6eaf4c93",
   "metadata": {},
   "source": [
    "It is also possible to specify your own levels by passing a list to `plot_kw['levels']."
   ]
  },
  {
   "cell_type": "code",
   "execution_count": null,
   "id": "32a7d3da",
   "metadata": {},
   "outputs": [],
   "source": [
    "ax = fg.plot.gridmap(da_pr, plot_kw={'levels':[290,294,298,302], 'cbar_kwargs':{'label':None}})\n",
    "ax.set_title('Custom levels')\n",
    "fg.utils.plot_logo(ax, loc=(0, 0.85), **{'zoom': 0.08})"
   ]
  },
  {
   "cell_type": "code",
   "execution_count": null,
   "id": "ebb8c2e4",
   "metadata": {},
   "outputs": [],
   "source": [
    "#Creating custom cmap (refer to https://matplotlib.org/stable/tutorials/colors/colormap-manipulation.html#directly-creating-a-segmented-colormap-from-a-list)\n",
    "from matplotlib.colors import LinearSegmentedColormap\n",
    "custom_colors =[\"darkorange\", \"gold\", \"lawngreen\", \"lightseagreen\"]\n",
    "custom_cmap = LinearSegmentedColormap.from_list(\"mycmap\", custom_colors)\n",
    "ax = fg.gridmap(da_pr, projection=projection, divergent=300, cmap=custom_cmap,\n",
    "                plot_kw={'levels':8, 'cbar_kwargs':{'label':None}}, show_time=(0.85, 0.8))\n",
    "ax.set_title('Custom cmap')"
   ]
  },
  {
   "cell_type": "markdown",
   "id": "9a7d61cf",
   "metadata": {},
   "source": [
    "### pcolormesh vs contourf\n",
    "\n",
    "By default, xarray plots two-dimensional DataArrays using the matplotlib pcolormesh function (see [xarray.plot.pcolormesh](https://docs.xarray.dev/en/stable/generated/xarray.plot.pcolormesh.html#xarray.plot.pcolormesh)). The `contourf` argument in gridmap allows the user to use [xarray.plot.contourf](https://docs.xarray.dev/en/stable/generated/xarray.plot.contourf.html?highlight=xarray.plot.contourf) function instead. This also implies the key-value pairs passed in `plot_kw` are passed to these functions.\n",
    "\n",
    "At a large scales, both of these functions create practically equivalent plots. However, their inner workings are inheritely different, and these different ways of plotting data become apparent at small scales.\n",
    "\n",
    "When using contourf, passing a value in `levels` is equivalent to passing it in `plot_kw['levels']`, meaning the number of levels on the plot might not be exactly the specified value."
   ]
  },
  {
   "cell_type": "code",
   "execution_count": null,
   "id": "c43cdbaf",
   "metadata": {},
   "outputs": [],
   "source": [
    "zoomed = ds_space['tx_max_p50'].sel(lat=slice(44,46), lon=slice(-65,-60))\n",
    "\n",
    "fig, axs = plt.subplots(1,2, figsize=(10,6), subplot_kw= {'projection': ccrs.LambertConformal()})\n",
    "fg.gridmap(ax = axs[0], data=zoomed, contourf=False,plot_kw={'levels':10, 'add_colorbar':False})\n",
    "axs[0].set_title('pcolormesh')\n",
    "fg.gridmap(ax = axs[1],data=zoomed, contourf=True, plot_kw={'levels':10, 'cbar_kwargs':{'shrink':0.5, 'label':None}})\n",
    "axs[1].set_title('contourf')"
   ]
  },
  {
   "cell_type": "markdown",
   "id": "23b17a67",
   "metadata": {},
   "source": [
    "## Station Data on Maps\n",
    "\n",
    "Data that is georeferenced by coordinates (e.g. latitude and longitude) but is not on a grid can be plotted using the scattermap function. This function is practically identical to `gridmap()`, but introduces some new arguments (see examples below). The function essentially builds a basemap using cartopy and calls `plt.scatter()` to plot the data."
   ]
  },
  {
   "cell_type": "code",
   "execution_count": null,
   "id": "ab0bc15c",
   "metadata": {},
   "outputs": [],
   "source": [
    "# create a fictional observational dataset from scratch\n",
    "names = ['station_' + str(i) for i in np.arange(10)]\n",
    "lat = 45 + np.random.rand(10)*3\n",
    "lon = np.linspace(-76,-70, 10)\n",
    "tas = 20 + np.random.rand(10)*7\n",
    "yrs = (30 * np.random.rand(10)).astype(int)\n",
    "attrs = {'units': 'degC', 'standard_name': 'air_temperature', 'long_name': 'Near-Surface Daily Maximum Air Temperature'}\n",
    "\n",
    "tas = xr.DataArray(data=tas,\n",
    "                        coords={'station': names, 'lat':('station', lat), 'lon': ('station', lon)},\n",
    "                        dims=['station'],\n",
    "                        attrs=attrs)\n",
    "years = tas.copy().assign_attrs({'long_name': \"Number of years of observations\", 'units': 'years'})\n",
    "\n",
    "years.data = yrs\n",
    "\n",
    "obs = xr.Dataset({'tas': tas, 'years': years})\n",
    "\n",
    "#set nice features\n",
    "features = {\"land\": {\"color\": \"#f0f0f0\"},\n",
    "            \"rivers\": {\"edgecolor\": \"#cfd3d4\"},\n",
    "            \"lakes\": {\"facecolor\": \"#cfd3d4\"},\n",
    "            \"coastline\": {\"edgecolor\": \"black\"},\n",
    "}\n",
    "\n",
    "# plot\n",
    "ax =fg.scattermap(obs,\n",
    "                  transform=ccrs.PlateCarree(),\n",
    "                  sizes='years',\n",
    "                  size_range=(15, 100),\n",
    "                  divergent=23.5,\n",
    "                  features=features,\n",
    "                  fig_kw={'figsize': (9,6)},\n",
    "                  legend_kw={'loc': 'lower left'},\n",
    "                 )\n",
    "ax.set_xlim(-78,-68)\n",
    "ax.set_ylim(43,50)\n"
   ]
  },
  {
   "cell_type": "markdown",
   "id": "2201ff76",
   "metadata": {},
   "source": [
    "It is possible to plot observations on top of gridded data by calling both `gridmap()` and `scattermap()` and fixing the colormap limits (`vmin` and `vmax`), like demonstrated below."
   ]
  },
  {
   "cell_type": "code",
   "execution_count": null,
   "id": "5ba2e4bd",
   "metadata": {},
   "outputs": [],
   "source": [
    "# defining our limits\n",
    "vmin= 20\n",
    "vmax= 35\n",
    "\n",
    "# plotting the gridded data\n",
    "ax = fg.gridmap(ds_space-273.15,\n",
    "                plot_kw={'vmin': vmin, 'vmax': vmax, 'add_colorbar': False},\n",
    "                features=['coastline','ocean'],\n",
    "                show_time='lower right'\n",
    "               )\n",
    "ax.set_extent([-76.5, -69, 44.5, 52], crs=ccrs.PlateCarree()) # equivalent to set_xlim and set_ylim for projections\n",
    "\n",
    "# plotting the observations\n",
    "fg.scattermap(obs,\n",
    "              ax=ax,\n",
    "              transform=ccrs.PlateCarree(),\n",
    "              plot_kw={'vmin': vmin, 'vmax': vmax, 'edgecolors':'grey'}\n",
    "             )"
   ]
  },
  {
   "cell_type": "markdown",
   "id": "8507e483",
   "metadata": {},
   "source": [
    "## Plotting hatched areas\n",
    "The hatchmap function plots hatches on top of a map. It is a thin wrap around the [plt.contourf()](https://matplotlib.org/stable/api/_as_gen/matplotlib.pyplot.contourf.html) function, with very similar functionality to `gridmap()` and similar data arguments to `timeseries()`. It can be overlayed on top of a map created with `gridmap()` as shown below. hatchmap can also be used with [plt.contourf()](https://matplotlib.org/stable/api/_as_gen/matplotlib.pyplot.contourf.html) levels in plot_kw."
   ]
  },
  {
   "cell_type": "code",
   "execution_count": null,
   "id": "2863b396",
   "metadata": {
    "keep_output": true,
    "nbsphinx": {
     "execute": "never"
    }
   },
   "outputs": [
    {
     "name": "stderr",
     "output_type": "stream",
     "text": [
      "/home/jlavoie/Projets/xclim/xclim/ensembles/_robustness.py:289: FutureWarning: Function change_significance is deprecated as of xclim 0.47 and will be removed in 0.49. Please use robustness_fractions instead.\n",
      "  warnings.warn(\n",
      "/home/jlavoie/Projets/figanos/figanos/matplotlib/utils.py:825: UserWarning: Colormap warning: More than one variable group found. Use the cmap argument.\n",
      "  warnings.warn(\n",
      "/home/jlavoie/Projets/figanos/figanos/matplotlib/plot.py:1920: UserWarning: Only first variable of Dataset is plotted.\n",
      "  warnings.warn(\"Only first variable of Dataset is plotted.\")\n",
      "/exec/jlavoie/.conda/xclimDev/lib/python3.10/site-packages/dask/core.py:119: RuntimeWarning: invalid value encountered in divide\n",
      "  return func(*(_execute_task(a, cache) for a in args))\n",
      "/exec/jlavoie/.conda/xclimDev/lib/python3.10/site-packages/dask/core.py:119: RuntimeWarning: invalid value encountered in divide\n",
      "  return func(*(_execute_task(a, cache) for a in args))\n",
      "/exec/jlavoie/.conda/xclimDev/lib/python3.10/site-packages/cartopy/mpl/geoaxes.py:1655: UserWarning: The following kwargs were not used by contour: 'Over 0.8'\n",
      "  result = super().contourf(*args, **kwargs)\n",
      "/home/jlavoie/Projets/figanos/figanos/matplotlib/utils.py:220: UserWarning: Attribute \"description\" not found.\n",
      "  warnings.warn(f'Attribute \"{string}\" not found.')\n"
     ]
    },
    {
     "data": {
      "text/plain": [
       "Text(0.5, 1.0, 'Ensemble plot - hatchmap and gridmap')"
      ]
     },
     "execution_count": null,
     "metadata": {},
     "output_type": "execute_result"
    },
    {
     "data": {
      "image/png": "[encoded data removed]",
      "text/plain": [
       "<Figure size 640x480 with 2 Axes>"
      ]
     },
     "metadata": {},
     "output_type": "display_data"
    }
   ],
   "source": [
    "from xclim import ensembles\n",
    "urls = ['https://pavics.ouranos.ca/twitcher/ows/proxy/thredds/dodsC/birdhouse/ouranos/portraits-clim-1.1/NorESM1-M_rcp85_prcptot_monthly.nc',\n",
    "        'https://pavics.ouranos.ca/twitcher/ows/proxy/thredds/dodsC/birdhouse/ouranos/portraits-clim-1.1/MPI-ESM-LR_rcp85_prcptot_monthly.nc',\n",
    "        'https://pavics.ouranos.ca/twitcher/ows/proxy/thredds/dodsC/birdhouse/ouranos/portraits-clim-1.1/IPSL-CM5B-LR_rcp85_prcptot_monthly.nc',\n",
    "        ]\n",
    "ens = ensembles.create_ensemble(urls)\n",
    "fut = ens.sel(time=slice(\"2020\", \"2050\"))\n",
    "ref = ens.sel(time=slice(\"1990\", \"2020\"))\n",
    "delta = fut.mean(\"time\") - ref.mean(\"time\")\n",
    "chng_f, pos_f = ensembles.change_significance(\n",
    "    delta, test=\"threshold\", abs_thresh=2\n",
    ")\n",
    "sup_8 = chng_f.where(chng_f.prcptot>0.8)\n",
    "inf_5 = chng_f.where(chng_f.prcptot<0.5)\n",
    "\n",
    "ens_stats = ensembles.ensemble_mean_std_max_min(ens)\n",
    "\n",
    "ax = fg.gridmap(ens_stats.prcptot_mean.mean(dim='time', keep_attrs='True'), features = ['coastline','ocean'], frame = True)\n",
    "\n",
    "fg.hatchmap({'Over 0.8': sup_8, 'Under 0.5': inf_5}, ax=ax,\n",
    "            plot_kw={'Over 0.8': {'hatches': '*'}},\n",
    "            features = ['coastline','ocean'], frame = True,\n",
    "            legend_kw={'title': 'Ensemble change'})\n",
    "ax.set_title('Ensemble plot - hatchmap and gridmap')"
   ]
  },
  {
   "cell_type": "markdown",
   "id": "71cfc95e",
   "metadata": {},
   "source": []
  },
  {
   "cell_type": "markdown",
   "id": "8936d047",
   "metadata": {},
   "source": [
    "## GeoDataFrame on Maps\n",
    "\n",
    "The gdfmap function plots geometries contained in a GeoPandas [GeoDataFrame](https://geopandas.org/en/stable/docs/user_guide/data_structures.html#geodataframe) on maps. It is a thin wrap around the [GeoDataFrame.plot()](https://geopandas.org/en/stable/docs/reference/api/geopandas.GeoDataFrame.plot.html#geopandas.GeoDataFrame.plot) method, with verys similar functionality to `gridmap()` and most of the same features.\n",
    "\n",
    "To use this function, the data to be linked to the colormap has to be included in the GeoDataFrame. Its name (as a string) must be passed to the `df_col` argument. Like described above, if the `cmap` argument is `None`, the function will look for common variable names in the name of this column, and use an appropriate colormap if a match is found."
   ]
  },
  {
   "cell_type": "code",
   "execution_count": null,
   "id": "36c0173d",
   "metadata": {},
   "outputs": [],
   "source": [
    "import geopandas as gpd\n",
    "qc_bound = gpd.read_file(\"https://pavics.ouranos.ca/geoserver/public/ows?service=WFS&version=1.0.0&request=GetFeature&typeName=public%3Aquebec_admin_boundaries&maxFeatures=50&outputFormat=application%2Fjson\")\n",
    "qc_bound['pr']=qc_bound['RES_CO_REG'].astype(float) # create fake precipitation data\n",
    "\n",
    "ax = fg.gdfmap(qc_bound,\n",
    "          'pr',\n",
    "          levels = 16,\n",
    "          plot_kw = {'legend_kwds': {'label': 'Fake precipitation (fake units)'}}\n",
    "                )"
   ]
  },
  {
   "cell_type": "markdown",
   "id": "afe21d13",
   "metadata": {},
   "source": [
    "Projections can be used like in `gridmap()`, although some of the Cartopy projections might lead to unexpected results due to the interaction between Cartopy and GeoPandas, especially when the whole globe is plotted.\n",
    "\n",
    "Also note that the colorbar parameters have to be accessed through the `legend_kwds` argument of [GeoDataFrame.plot()](https://geopandas.org/en/stable/docs/reference/api/geopandas.GeoDataFrame.plot.html#geopandas.GeoDataFrame.plot)."
   ]
  },
  {
   "cell_type": "code",
   "execution_count": null,
   "id": "d7e47484",
   "metadata": {},
   "outputs": [],
   "source": [
    "r=gpd.read_file('https://www.donneesquebec.ca/recherche/dataset/11a317d0-97a2-4896-85b5-4cb26ccf5dc6/resource/4c6fe152-8c82-4d36-a8e0-9b584b9cde18/download/cours-eau-v3r.json')\n",
    "ax = fg.gdfmap(r,\n",
    "               'OBJECTID',\n",
    "               cmap = 'cool',\n",
    "               projection = ccrs.LambertConformal(),\n",
    "               features = {'ocean': {'color':'#a2bdeb'}},\n",
    "               plot_kw = {'legend_kwds':{'orientation': 'vertical'}},\n",
    "               frame=True\n",
    "              )\n",
    "ax.set_title(\"Waterways of Trois-Rivières\")"
   ]
  },
  {
   "cell_type": "markdown",
   "id": "56b1d374",
   "metadata": {},
   "source": [
    "## Climate Stripes\n",
    "\n",
    "Climate stripe diagrams are a way to present the relative change of climate variables or indicators over time, in a simple and aesthetically-oriented manner. Figanos creates such plots through the stripes function.\n",
    "\n",
    "While the vast majority of these diagrams will show the yearly change of a variable relative to a reference point, `stripes()` will adjust the size of the stripes to fill the figure to accomodate datasets with time intervals greater than a year.\n",
    "\n",
    "The function accepts DataArrays, one-variable Datasets, and a dictionary containing scenarios (DataArrays or Datasets) to be stacked. The plot will be divided in as many sub-axes as there are entries in the dictionary. Normally, these scenarios would contain identical data up to a certain year, where the scenarios diverge; the `divide` argument should be used to create an axis separation at this point of divergence."
   ]
  },
  {
   "cell_type": "code",
   "execution_count": null,
   "id": "b037dd93",
   "metadata": {},
   "outputs": [],
   "source": [
    "# create two datasets of mean annual temperature relative to the 1981-2010 period\n",
    "url1 = 'https://pavics.ouranos.ca/twitcher/ows/proxy/thredds/dodsC/birdhouse/ouranos/portraits-clim-1.3/MPI-ESM-LR_rcp85_tx_mean_annual.nc'\n",
    "rcp85 = xr.open_dataset(url1, decode_timedelta=False)\n",
    "rcp85 = rcp85.sel(lon=-73, lat=46, method='nearest')\n",
    "rcp85_deltas = rcp85 - rcp85.sel(time=slice(\"1981\",\"2010\")).mean(dim='time')\n",
    "rcp85_deltas.tx_mean_annual.attrs['long_name'] = 'Mean annual daily max temp relative to 1981-2010'\n",
    "rcp85_deltas.tx_mean_annual.attrs['units'] = 'K'\n",
    "\n",
    "url2 = 'https://pavics.ouranos.ca/twitcher/ows/proxy/thredds/dodsC/birdhouse/ouranos/portraits-clim-1.3/MPI-ESM-LR_rcp45_tx_mean_annual.nc'\n",
    "rcp45 = xr.open_dataset(url2, decode_timedelta=False)\n",
    "rcp45 = rcp45.sel(lon=-73, lat=46, method='nearest')\n",
    "rcp45_deltas = rcp45 - rcp45.sel(time=slice(\"1981\",\"2010\")).mean(dim='time')\n",
    "rcp45_deltas.tx_mean_annual.attrs['long_name'] = 'Annual mean of daily max temp relative to 1981-2010'\n",
    "rcp45_deltas.tx_mean_annual.attrs['units'] = 'K'\n",
    "\n",
    "# plot\n",
    "fg.stripes({'rcp45': rcp45_deltas, 'rcp85': rcp85_deltas}, divide=2006)"
   ]
  },
  {
   "cell_type": "markdown",
   "id": "8988c9c2",
   "metadata": {},
   "source": [
    "Like most of the other functions, `stripes()` will attempt to find a colormap that is appropriate for the data variables."
   ]
  },
  {
   "cell_type": "code",
   "execution_count": null,
   "id": "f7b7a29a",
   "metadata": {},
   "outputs": [],
   "source": [
    "# creating a similar dataset with precipitation data\n",
    "url3 = 'https://pavics.ouranos.ca/twitcher/ows/proxy/thredds/dodsC/birdhouse/ouranos/portraits-clim-1.3/MPI-ESM-LR_rcp85_precip_accumulation_annual.nc'\n",
    "prec = xr.open_dataset(url3, decode_timedelta=False)\n",
    "prec = prec.sel(lon=-73, lat=46, method='nearest')\n",
    "prec_deltas = prec - prec.sel(time=slice(\"1981\",\"2010\")).mean(dim='time')\n",
    "prec_deltas.precip_accumulation_annual.attrs['long_name'] = 'Total annual precipitation change relative to 1981-2010'\n",
    "prec_deltas.precip_accumulation_annual.attrs['units'] = 'mm'\n",
    "\n",
    "ax = fg.stripes(prec_deltas)\n",
    "ax.set_title('Precipitation')"
   ]
  },
  {
   "cell_type": "markdown",
   "id": "0650d35c",
   "metadata": {},
   "source": [
    "## Violin Plots\n",
    "\n",
    "Violin plots are a practical tool for visualizing the statistical distribution of data in an ensemble, combining a box plot with a kernel density plot. The violin function wraps Seaborn's [violinplot](https://seaborn.pydata.org/generated/seaborn.violinplot.html#seaborn.violinplot) function to directly accept xarray objects, and incorporates other figanos features. The `data` argument can be a DataArray (one \"violin\"), a Dataset (as many \"violins\" as there are variables in the Dataset), or a dictionary of either types. In the case of a dictionary, its keys will become the \"violin\" labels.\n",
    "\n",
    "As with other functions, when `use_attrs` is passed and `data` is a dictionary, attributes from the first dictionary entry will be put on the plot."
   ]
  },
  {
   "cell_type": "code",
   "execution_count": null,
   "id": "a044b0ae",
   "metadata": {},
   "outputs": [],
   "source": [
    "fg.violin(ds_time, use_attrs={'title':'description'})"
   ]
  },
  {
   "cell_type": "markdown",
   "id": "0be208f7",
   "metadata": {},
   "source": [
    "The optional `color` argument combines the Seaborn function's `color` and `palette` arguments. A single color or a list of colors can be passed. Integers can be passed instead of strings to refer to colors of the currently used stylesheet. If the list of colors is shorter than the number of variables on the plot, the colors are repeated."
   ]
  },
  {
   "cell_type": "code",
   "execution_count": null,
   "id": "b05c0791",
   "metadata": {},
   "outputs": [],
   "source": [
    "my_data = {'p10': ds_time.tx_max_p10,'p50': ds_time.tx_max_p50, 'p90': ds_time.tx_max_p90}\n",
    "\n",
    "ax = fg.violin(my_data, plot_kw={'orient':'h'}, color=[3, 'purple', '#78bf84'])"
   ]
  },
  {
   "cell_type": "markdown",
   "id": "7d7e7807",
   "metadata": {},
   "source": [
    "## Heatmaps\n",
    "\n",
    "Similarly to violin plots, the heatmap function wraps Seaborn's [heatmap](https://seaborn.pydata.org/generated/seaborn.heatmap.html) function to directly accept xarray objects, and incorporates other figanos features. The `data` argument can be a DataArray, a Dataset, or a dictionary of either types and of length=1. There is no real benefit to using a dictionary, but it is accepted to be coherent with other functions in the package."
   ]
  },
  {
   "cell_type": "code",
   "execution_count": null,
   "id": "34d90a61",
   "metadata": {},
   "outputs": [],
   "source": [
    "# create diagnostics Dataset from scratch\n",
    "\n",
    "improvement = np.random.rand(7,7)\n",
    "diagnostics = xr.DataArray(data=improvement,\n",
    "                           coords=dict(realization=['model1', 'model2', 'model3', 'model4', 'model5', 'model6', 'model7'],\n",
    "                                       properties=['aca_pr', 'aca_tasmax', 'aca_tasmin', 'corr_tasmax_pr',\n",
    "                                                   'corr_tasmax_tasmin', 'mean_tasmax', 'mean_pr']))\n",
    "\n",
    "diagnostics.attrs['long_name'] = \"% of improved grid cells\"\n",
    "\n",
    "# plot heatmap\n",
    "\n",
    "fg.heatmap(diagnostics, divergent=0.5, plot_kw={'vmin': 0, 'linecolor': 'w', 'linewidth':1.5})\n"
   ]
  },
  {
   "cell_type": "markdown",
   "id": "2840ade0",
   "metadata": {},
   "source": [
    "In order to produce realiable results, the xarray object passed to `heatmap()` has to have only two dimensions. Under the hood, the function converts the DataArray containing the data to a pandas DataFrame before plotting it. Using `transpose=True` swaps the x and y axes.\n",
    "\n",
    "The colorbar kwargs are accessible through the nesting of `cbar_kws` in `plot_kw`."
   ]
  },
  {
   "cell_type": "code",
   "execution_count": null,
   "id": "f85c621b",
   "metadata": {},
   "outputs": [],
   "source": [
    "ax = fg.heatmap(diagnostics,\n",
    "                transpose=True,\n",
    "                cmap='bwr_r',\n",
    "                divergent=0.5,\n",
    "                plot_kw={'cbar_kws':{'label': 'Proportion of cells improved'}, 'annot':True}\n",
    "               )\n",
    "ax.set_xlabel(\"\") # get rid of labels\n",
    "ax.set_ylabel(\"\")"
   ]
  },
  {
   "cell_type": "markdown",
   "id": "d1a679fb",
   "metadata": {},
   "source": [
    "## Taylor Diagrams\n",
    "\n",
    "Taylor diagrams are a useful way to compare simulation datasets to a reference dataset. They allow to graphically represent the standard deviation of both the simulation and reference datasets, the correlation between both, and the root mean squared error (a function of the two previous statistical properties).\n",
    "\n",
    "The taylordiagram function creates each point on the Taylor diagram from an object created using `xclim.sdba.measures.taylordiagram`, as illustrated below.\n",
    "\n",
    "### Important Notes\n",
    "* The structure of the matplotlib axes being different than in the other figanos functions, this funcion does not have an `ax` argument, and creates its own figure.\n",
    "* To change the axis labels, use the `std_label` and `corr_label` arguments, rather than the `ax.set_xlabel()` method.\n",
    "* Dataset with negative correlations with the reference dataset will not be plotted.\n",
    "* To modify the appearance of the reference point (on the x-axis), use the keyword 'reference' in `plot_kw`."
   ]
  },
  {
   "cell_type": "code",
   "execution_count": null,
   "id": "a3afa881",
   "metadata": {},
   "outputs": [],
   "source": [
    "da_ref = ds_time['tx_max_p50']\n",
    "\n",
    "\n",
    "rands = np.arange(15)\n",
    "sims = {}\n",
    "for rand in rands:\n",
    "    name = \"model\" + str(rand)\n",
    "    da = xr.DataArray(data=np.random.rand(13)*20+290+rand,\n",
    "                      dims={'time': da_ref.time.values})\n",
    "    da.attrs[\"units\"] = da_ref.units\n",
    "\n",
    "    sims[name] = sdba.measures.taylordiagram(da, da_ref)\n",
    "\n",
    "fg.taylordiagram(sims, std_range=(0, 1.3), contours=5, contours_kw={'colors': 'green'}, plot_kw={'reference': {'marker':'*'}})\n"
   ]
  },
  {
   "cell_type": "markdown",
   "id": "a0a3afb0",
   "metadata": {},
   "source": [
    "## Partition plots\n",
    "\n",
    "Partition plots show the fraction of uncertainty associated with different components.\n",
    "Xclim has a few different [partition functions](https://xclim.readthedocs.io/en/stable/api.html#uncertainty-partitioning). \n",
    "\n",
    "This tutorial is a reproduction of [xclim's documentation](https://xclim.readthedocs.io/en/stable/notebooks/partitioning.html).\n",
    "\n",
    "<div class=\"alert alert-info\">\n",
    "    \n",
    "Note that you could also use the [xscen library](https://xscen.readthedocs.io/en/latest/index.html) to build and ensemble from a catalog with `xscen.ensembles.get_partition_input`.\n",
    "    \n",
    "</div>"
   ]
  },
  {
   "cell_type": "code",
   "execution_count": null,
   "id": "a91d12a2",
   "metadata": {},
   "outputs": [],
   "source": [
    "# Fetch data\n",
    "from __future__ import annotations\n",
    "\n",
    "import pandas as pd\n",
    "\n",
    "import xclim.ensembles\n",
    "\n",
    "# The directory in the Atlas repo where the data is stored\n",
    "# host = \"https://github.com/IPCC-WG1/Atlas/raw/main/datasets-aggregated-regionally/data/CMIP6/CMIP6_tas_land/\"\n",
    "host = \"https://raw.githubusercontent.com/IPCC-WG1/Atlas/main/datasets-aggregated-regionally/data/CMIP6/CMIP6_tas_land/\"\n",
    "\n",
    "# The file pattern, e.g. CMIP6_ACCESS-CM2_ssp245_r1i1p1f1.csv\n",
    "pat = \"CMIP6_{model}_{scenario}_{member}.csv\"\n",
    "\n",
    "# Here we'll download data only for a very small demo sample of models and scenarios.\n",
    "\n",
    "# Download data for a few models and scenarios.\n",
    "models = [\"ACCESS-CM2\", \"CMCC-CM2-SR5\", \"CanESM5\"]\n",
    "\n",
    "# The variant label is not always r1i1p1f1, so we need to match it to the model.\n",
    "members = [\"r1i1p1f1\", \"r1i1p1f1\", \"r1i1p1f1\"]\n",
    "\n",
    "# GHG concentrations and land-use scenarios\n",
    "scenarios = [\"ssp245\", \"ssp370\", \"ssp585\"]\n",
    "\n",
    "# Create the input ensemble.\n",
    "data = []\n",
    "for model, member in zip(models, members):\n",
    "    for scenario in scenarios:\n",
    "        url = host + pat.format(model=model, scenario=scenario, member=member)\n",
    "\n",
    "        # Fetch data using pandas\n",
    "        df = pd.read_csv(url, index_col=0, comment=\"#\", parse_dates=True)[\"world\"]\n",
    "        # Convert to a DataArray, complete with coordinates.\n",
    "        da = (\n",
    "            xr.DataArray(df)\n",
    "            .expand_dims(model=[model], scenario=[scenario])\n",
    "            .rename(date=\"time\")\n",
    "        )\n",
    "        data.append(da)\n",
    "        \n",
    "# Combine DataArrays from the different models and scenarios into one.\n",
    "ens_mon = xr.combine_by_coords(data)[\"world\"]\n",
    "\n",
    "# Then resample the monthly time series at the annual frequency\n",
    "ens = ens_mon.resample(time=\"Y\").mean()"
   ]
  },
  {
   "cell_type": "markdown",
   "id": "d91c12cf",
   "metadata": {},
   "source": [
    "Compute uncertainties with xclim.\n",
    "Make sure to activate the `fraction` argument before plotting with figanos."
   ]
  },
  {
   "cell_type": "code",
   "execution_count": null,
   "id": "645c3bb3",
   "metadata": {},
   "outputs": [],
   "source": [
    "# compute uncertainty\n",
    "mean, uncertainties = xclim.ensembles.hawkins_sutton(ens, baseline=(\"2016\", \"2030\"))\n",
    "frac= xc.ensembles.fractional_uncertainty(uncertainties)\n",
    "# plot\n",
    "fg.partition(\n",
    "    frac,\n",
    "    start_year='2016', # change the x-axis\n",
    "    show_num=True, # put the number of element of each uncertainty source in the legend\n",
    "    fill_kw={\n",
    "    \"variability\": {'color':\"#DC551A\"},\n",
    "    \"model\": {'color':\"#2B2B8B\"},\n",
    "    \"scenario\": {'color':\"#275620\"},\n",
    "    \"total\": {'color':\"k\"},},\n",
    "    line_kw={'lw':3}\n",
    ")\n",
    " "
   ]
  }
 ],
 "metadata": {
  "celltoolbar": "Edit Metadata",
  "language_info": {
   "codemirror_mode": {
    "name": "ipython",
    "version": 3
   },
   "file_extension": ".py",
   "mimetype": "text/x-python",
   "name": "python",
   "nbconvert_exporter": "python",
   "pygments_lexer": "ipython3",
   "version": "3.10.6"
  }
 },
 "nbformat": 4,
 "nbformat_minor": 5
}
