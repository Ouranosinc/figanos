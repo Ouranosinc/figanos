{
 "cells": [
  {
   "cell_type": "markdown",
   "metadata": {},
   "source": [
    "# Multiple plots"
   ]
  },
  {
   "cell_type": "markdown",
   "metadata": {},
   "source": [
    "Figanos also creates [xr.plot.facetgrid.FacetGrid](https://docs.xarray.dev/en/latest/generated/xarray.plot.FacetGrid.html) due to being wrapped around xarray plotting functions. This allows for multiple plots to be created at once. The following example shows how to create multiple timeseries and maps plots."
   ]
  },
  {
   "cell_type": "code",
   "execution_count": null,
   "metadata": {
    "pycharm": {
     "is_executing": true
    }
   },
   "outputs": [],
   "source": [
    "# import necessary libraries\n",
    "import xarray as xr\n",
    "import cartopy.crs as ccrs\n",
    "import figanos.matplotlib as fg\n",
    "import numpy as np\n",
    "from matplotlib import pyplot as plt\n",
    "\n",
    "# use ouranos style\n",
    "fg.utils.set_mpl_style(\"ouranos\")"
   ]
  },
  {
   "cell_type": "markdown",
   "metadata": {},
   "source": [
    "## Timeseries"
   ]
  },
  {
   "cell_type": "code",
   "execution_count": null,
   "metadata": {},
   "outputs": [],
   "source": [
    "# Create a xarray object from a NetCDF\n",
    "url = \"https://pavics.ouranos.ca//twitcher/ows/proxy/thredds/dodsC/birdhouse/disk2/cccs_portal/indices/Final/BCCAQv2_CMIP6/tx_max/YS/ssp585/ensemble_percentiles/tx_max_ann_BCCAQ2v2+ANUSPLIN300_historical+ssp585_1950-2100_30ymean_percentiles.nc\"\n",
    "opened = xr.open_dataset(url, decode_timedelta=False)"
   ]
  },
  {
   "cell_type": "code",
   "execution_count": null,
   "metadata": {},
   "outputs": [],
   "source": [
    "ds_time = opened.isel(lon=[500], lat=[150, 250])\n",
    "im = fg.timeseries(\n",
    "    {\"p50\": ds_time.tx_max_p50, \"p90\": ds_time.tx_max_p90},\n",
    "    plot_kw={\"p50\": {\"col\": \"lat\"}, \"p90\": {\"col\": \"lat\"}},\n",
    "    fig_kw={\"figsize\": (10, 4)},\n",
    "    legend=\"edge\",\n",
    "    show_lat_lon=True,\n",
    ")"
   ]
  },
  {
   "cell_type": "code",
   "execution_count": null,
   "metadata": {},
   "outputs": [],
   "source": [
    "# Create fake scenarios\n",
    "ds_time = ds_time[[\"tx_max_p10\", \"tx_max_p50\", \"tx_max_p90\"]]\n",
    "data = {\n",
    "    \"tasmax_ssp434\": ds_time,\n",
    "    \"tasmax_ssp245\": ds_time.copy() - 10,\n",
    "    \"tasmax_ssp585\": ds_time.copy() + 10,\n",
    "}\n",
    "\n",
    "fg.timeseries(\n",
    "    data=data,\n",
    "    legend=\"facetgrid\",\n",
    "    show_lat_lon=False,\n",
    "    fig_kw={\"figsize\": (9, 4)},\n",
    "    plot_kw={\n",
    "        \"tasmax_ssp434\": {\"col\": \"lat\"},\n",
    "        \"tasmax_ssp245\": {\"col\": \"lat\"},\n",
    "        \"tasmax_ssp585\": {\"col\": \"lat\"},\n",
    "    },\n",
    "    enumerate_subplots=True,\n",
    ")"
   ]
  },
  {
   "cell_type": "markdown",
   "metadata": {},
   "source": [
    "## Maps\n",
    "Create multiple maps plot with figanos wrapped around [xr.plot.facetgrid.FacetGrid](https://docs.xarray.dev/en/latest/generated/xarray.plot.FacetGrid.html) by passing the keys  `row` and `col` in the argument `plot_kw`."
   ]
  },
  {
   "cell_type": "code",
   "execution_count": null,
   "metadata": {},
   "outputs": [],
   "source": [
    "# Select a time and slicing our starting Dataset\n",
    "ds_space = opened[[\"tx_max_p50\"]].isel(time=[0, 1, 2]).sel(lat=slice(40, 65), lon=slice(-90, -55))\n",
    "\n",
    "# Defining a spatial projection\n",
    "projection = ccrs.LambertConformal()\n",
    "\n",
    "im = fg.gridmap(\n",
    "    ds_space,\n",
    "    projection=projection,\n",
    "    plot_kw={\"col\": \"time\"},\n",
    "    features=[\"coastline\", \"ocean\"],\n",
    "    frame=False,\n",
    "    use_attrs={\"suptitle\": \"description\"},\n",
    "    enumerate_subplots=True,\n",
    ")"
   ]
  },
  {
   "cell_type": "code",
   "execution_count": null,
   "metadata": {
    "nbsphinx": "hidden"
   },
   "outputs": [],
   "source": [
    "# plt.savefig(\"images/multiple.png\", bbox_inches='tight')"
   ]
  },
  {
   "cell_type": "code",
   "execution_count": null,
   "metadata": {},
   "outputs": [],
   "source": [
    "names = [\"station_\" + str(i) for i in np.arange(5)]\n",
    "lat = 45 + np.random.rand(5) * 3\n",
    "lon = np.linspace(-76, -70, 5)\n",
    "tas = np.array([[20, 25, 30, 15, 5], [5, 0, 10, 2, 3]])\n",
    "yrs = np.array([[35, 65, 45, 25, 95], [15, 75, 10, 15, 50]])\n",
    "\n",
    "attrs = {\n",
    "    \"units\": \"degC\",\n",
    "    \"standard_name\": \"air_temperature\",\n",
    "    \"long_name\": \"Near-Surface Daily Maximum Air Temperature\",\n",
    "}\n",
    "\n",
    "tas = xr.DataArray(\n",
    "    data=tas,\n",
    "    coords={\n",
    "        \"season\": [\"DFJ\", \"MAM\"],\n",
    "        \"station\": names,\n",
    "        \"lat\": (\"station\", lat),\n",
    "        \"lon\": (\"station\", lon),\n",
    "        \"years\": ((\"season\", \"station\"), yrs),\n",
    "    },\n",
    "    dims=[\"season\", \"station\"],\n",
    "    attrs=attrs,\n",
    ")\n",
    "obs = xr.Dataset({\"tas\": tas})\n",
    "\n",
    "# plot\n",
    "fg.scattermap(\n",
    "    obs,\n",
    "    transform=ccrs.PlateCarree(),\n",
    "    sizes=\"years\",\n",
    "    size_range=(25, 100),\n",
    "    plot_kw={\n",
    "        \"xlim\": (-77, -69),\n",
    "        \"ylim\": (43, 50),\n",
    "        \"col\": \"season\",\n",
    "    },\n",
    "    features={\n",
    "        \"land\": {\"color\": \"#f0f0f0\"},\n",
    "        \"rivers\": {\"edgecolor\": \"#cfd3d4\"},\n",
    "        \"lakes\": {\"facecolor\": \"#cfd3d4\"},\n",
    "        \"coastline\": {\"edgecolor\": \"black\"},\n",
    "    },\n",
    "    fig_kw={\"figsize\": (7, 4)},\n",
    "    legend_kw={\"ncol\": 4, \"bbox_to_anchor\": (0.15, 0.05)},\n",
    ")"
   ]
  },
  {
   "cell_type": "code",
   "execution_count": null,
   "metadata": {},
   "outputs": [],
   "source": [
    "sup_305k = ds_space.where(ds_space.tx_max_p50 > 305)\n",
    "inf_300k = ds_space.where(ds_space.tx_max_p50 < 300)\n",
    "\n",
    "im = fg.hatchmap(\n",
    "    {\"sup_305k\": sup_305k, \"inf_300k\": inf_300k},\n",
    "    plot_kw={\n",
    "        \"sup_305k\": {\n",
    "            \"hatches\": [\"////\"],  # hatches must be passed as a list of strings to matplotlib.pyplot.contourf\n",
    "            \"col\": \"time\",\n",
    "            \"x\": \"lon\",\n",
    "            \"y\": \"lat\",\n",
    "        },\n",
    "        \"inf_300k\": {\"hatches\": \"x\", \"col\": \"time\", \"x\": \"lon\", \"y\": \"lat\"},\n",
    "    },\n",
    "    features=[\"coastline\", \"ocean\"],\n",
    "    frame=True,\n",
    "    legend_kw={\"title\": \"Ensemble change\"},\n",
    "    enumerate_subplots=True,\n",
    ")\n",
    "\n",
    "im.fig.suptitle(\"Multiple hatchmaps\", y=1.08)"
   ]
  },
  {
   "cell_type": "markdown",
   "metadata": {},
   "source": [
    "## Heatmaps\n",
    "\n",
    "The keys  `row` and `col` in the argument `plot_kw` can also be used to create a grid of heatmaps. This is done by wrapping Seaborn's [heatmap](https://seaborn.pydata.org/generated/seaborn.heatmap.html) and [FacetGrid](https://seaborn.pydata.org/generated/seaborn.FacetGrid.html)"
   ]
  },
  {
   "cell_type": "code",
   "execution_count": null,
   "metadata": {},
   "outputs": [],
   "source": [
    "ds_space = opened[[\"tx_max_p50\"]].isel(time=[0, 1, 2]).sel(lat=slice(40, 65), lon=slice(-90, -55))\n",
    "\n",
    "# Select a spatial subdomain\n",
    "sl = slice(100, 100 + 5)\n",
    "da = ds_space.isel(lat=sl, lon=sl).drop(\"horizon\").tx_max_p50\n",
    "da[\"lon\"] = np.round(da.lon, 2)\n",
    "da[\"lat\"] = np.round(da.lat, 2)\n",
    "fg.heatmap(da, plot_kw={\"col\": \"time\"})"
   ]
  },
  {
   "cell_type": "markdown",
   "metadata": {},
   "source": [
    "## Plot over each other"
   ]
  },
  {
   "cell_type": "markdown",
   "metadata": {},
   "source": [
    "To overlay two `facetgrid` plots, you can create the first `facetgrid` with `col` or `row` and then loop through the `ax` of the first `facetgrid` and the `xr.object` to plot the second `facetgrid`."
   ]
  },
  {
   "cell_type": "code",
   "execution_count": null,
   "metadata": {},
   "outputs": [],
   "source": [
    "names = [\"station_\" + str(i) for i in np.arange(5)]\n",
    "lat = 45 + np.random.rand(5) * 3\n",
    "lon = np.linspace(-76, -70, 5)\n",
    "tas = np.array(\n",
    "    [\n",
    "        [290, 300, 295, 305, 301],\n",
    "        [275, 285, 277, 301, 345],\n",
    "        [302, 293, 295, 292, 280],\n",
    "    ]\n",
    ")\n",
    "\n",
    "attrs = {\n",
    "    \"units\": \"degK\",\n",
    "    \"standard_name\": \"air_temperature\",\n",
    "    \"long_name\": ds_space.tx_max_p50.attrs[\"description\"],\n",
    "}\n",
    "\n",
    "tas = xr.DataArray(\n",
    "    data=tas,\n",
    "    coords={\n",
    "        \"time\": ds_space.time.values,\n",
    "        \"station\": names,\n",
    "        \"lat\": (\"station\", lat),\n",
    "        \"lon\": (\"station\", lon),\n",
    "    },\n",
    "    dims=[\"time\", \"station\"],\n",
    "    attrs=attrs,\n",
    ")\n",
    "obs2 = xr.Dataset({\"tas\": tas})"
   ]
  },
  {
   "cell_type": "code",
   "execution_count": null,
   "metadata": {},
   "outputs": [],
   "source": [
    "V_MIN = 280\n",
    "V_MAX = 310\n",
    "ds_space = opened[[\"tx_max_p50\"]].isel(time=[0, 1, 2]).sel(lat=slice(40, 65), lon=slice(-90, -55))\n",
    "\n",
    "im = fg.gridmap(\n",
    "    ds_space,\n",
    "    projection=projection,\n",
    "    plot_kw={\n",
    "        \"col\": \"time\",\n",
    "        \"xlim\": (-77, -69),\n",
    "        \"ylim\": (43, 50),\n",
    "        \"vmin\": V_MIN,\n",
    "        \"vmax\": V_MAX,\n",
    "    },\n",
    "    features=[\"coastline\", \"ocean\"],\n",
    "    frame=False,\n",
    ")\n",
    "for i, fax in enumerate(im.axs.flat):\n",
    "    fg.scattermap(\n",
    "        obs2.isel(time=i),\n",
    "        ax=fax,\n",
    "        transform=ccrs.PlateCarree(),\n",
    "        plot_kw={\n",
    "            \"x\": \"lon\",\n",
    "            \"y\": \"lat\",\n",
    "            \"vmin\": V_MIN,\n",
    "            \"vmax\": V_MAX,\n",
    "            \"edgecolor\": \"grey\",\n",
    "            \"add_colorbar\": False,\n",
    "        },\n",
    "        show_time=False,\n",
    "    )\n",
    "im.fig.suptitle(\"Scattermaps over gridmaps\", x=0.45, y=0.95)"
   ]
  },
  {
   "cell_type": "markdown",
   "metadata": {},
   "source": [
    "### Limitations\n",
    "When the argument `col_wrap` is used for a facetgrid whose number of plots is not a multiple of `col_wrap`, no plot will be shown (see [issue](https://github.com/pydata/xarray/discussions/8563)). `set_extend` needs to be passed to every axis in the `facetgrid` to avoid this issue.\n"
   ]
  },
  {
   "cell_type": "code",
   "execution_count": null,
   "metadata": {},
   "outputs": [],
   "source": [
    "# Select a time and slicing for our starting Dataset\n",
    "ds_space = opened[[\"tx_max_p50\"]].isel(time=[0, 1, 2]).sel(lat=slice(40, 65), lon=slice(-90, -55))\n",
    "\n",
    "im = fg.gridmap(\n",
    "    ds_space,\n",
    "    projection=ccrs.LambertConformal(),\n",
    "    plot_kw={\"col\": \"time\", \"col_wrap\": 2},\n",
    "    features=[\"coastline\", \"ocean\"],\n",
    "    frame=False,\n",
    "    use_attrs={\"suptitle\": \"long_name\"},\n",
    "    fig_kw={\"figsize\": (6, 6)},\n",
    ")\n",
    "for i, fax in enumerate(im.axs.flat):\n",
    "    fax.set_extent(\n",
    "        [\n",
    "            ds_space.lon.min().item(),\n",
    "            ds_space.lon.max().item(),\n",
    "            ds_space.lat.min().item(),\n",
    "            ds_space.lat.max().item(),\n",
    "        ]\n",
    "    )"
   ]
  },
  {
   "cell_type": "markdown",
   "metadata": {},
   "source": [
    "Xarray plots by default `facetgrid` `ylabels` to the right (next to the colorbar). The example below shows how to move the `xlabels` to the left."
   ]
  },
  {
   "cell_type": "code",
   "execution_count": null,
   "metadata": {},
   "outputs": [],
   "source": [
    "import numpy as np\n",
    "\n",
    "op = opened.isel(time=[0, 1])\n",
    "data = xr.DataArray(\n",
    "    data=np.array([op.tx_max_p10.values, op.tx_max_p50.values, op.tx_max_p90.values]),\n",
    "    dims=[\"percentile\", \"time\", \"lat\", \"lon\"],\n",
    "    coords={\n",
    "        \"percentile\": [10, 50, 90],\n",
    "        \"time\": op.time.values,\n",
    "        \"lat\": op.lat.values,\n",
    "        \"lon\": op.lon.values,\n",
    "    },\n",
    "    attrs={\n",
    "        \"units\": \"degC\",\n",
    "        \"standard_name\": \"air_temperature\",\n",
    "        \"long_name\": \"Near-Surface Daily Maximum Air Temperature\",\n",
    "    },\n",
    ")\n",
    "\n",
    "im = fg.gridmap(\n",
    "    data,\n",
    "    projection=ccrs.LambertConformal(),\n",
    "    plot_kw={\n",
    "        \"col\": \"time\",\n",
    "        \"row\": \"percentile\",\n",
    "    },\n",
    "    features=[\"coastline\", \"ocean\"],\n",
    "    frame=False,\n",
    "    use_attrs={\"suptitle\": \"long_name\"},\n",
    "    fig_kw={\"figsize\": (8, 7)},\n",
    ")\n",
    "\n",
    "# Modify x-label positions (hardcoded in xarray.plot)\n",
    "for i, fax in enumerate(im.axs.flat):\n",
    "    for txt in fax.texts:\n",
    "        if len(txt.get_text()) > 0:\n",
    "            txt.set_x(-1.2)\n",
    "            txt.set_text(\"percentile \" + txt.get_text())\n",
    "            txt.set_rotation(\"vertical\")"
   ]
  }
 ],
 "metadata": {
  "kernelspec": {
   "display_name": "Python 3 (ipykernel)",
   "language": "python",
   "name": "python3"
  },
  "language_info": {
   "codemirror_mode": {
    "name": "ipython",
    "version": 3
   },
   "file_extension": ".py",
   "mimetype": "text/x-python",
   "name": "python",
   "nbconvert_exporter": "python",
   "pygments_lexer": "ipython3",
   "version": "3.11.8"
  }
 },
 "nbformat": 4,
 "nbformat_minor": 4
}
