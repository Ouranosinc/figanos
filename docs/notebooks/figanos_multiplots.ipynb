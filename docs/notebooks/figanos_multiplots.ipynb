{
 "cells": [
  {
   "cell_type": "markdown",
   "metadata": {},
   "source": [
    "# Figanos multiple plots"
   ]
  },
  {
   "cell_type": "markdown",
   "metadata": {},
   "source": [
    "Create subplots and facetgrids with Figanos."
   ]
  },
  {
   "cell_type": "code",
   "execution_count": null,
   "metadata": {},
   "outputs": [],
   "source": [
    "# import necessary libraries\n",
    "import xarray as xr\n",
    "import cartopy.crs as ccrs\n",
    "import figanos.matplotlib as fg\n",
    "import numpy as np\n",
    "\n",
    "# use ouranos style\n",
    "fg.utils.set_mpl_style('ouranos')"
   ]
  },
  {
   "cell_type": "code",
   "execution_count": null,
   "metadata": {},
   "outputs": [],
   "source": [
    "# create xarray object from a NetCDF\n",
    "url = 'https://pavics.ouranos.ca//twitcher/ows/proxy/thredds/dodsC/birdhouse/disk2/cccs_portal/indices/Final/BCCAQv2_CMIP6/tx_max/YS/ssp585/ensemble_percentiles/tx_max_ann_BCCAQ2v2+ANUSPLIN300_historical+ssp585_1950-2100_30ymean_percentiles.nc'\n",
    "opened = xr.open_dataset(url, decode_timedelta=False)"
   ]
  },
  {
   "cell_type": "markdown",
   "metadata": {},
   "source": [
    "## Timeseries\n",
    "Create multiple timeseries plot with matplotlib subplots and figanos as shown below."
   ]
  },
  {
   "cell_type": "markdown",
   "metadata": {},
   "source": [
    "## Maps\n",
    "Create multiple maps plot with figanos wrapped around xr.plot.facetgrid.FacetGrid by passing the arguement row and/or col in plot_kw."
   ]
  },
  {
   "cell_type": "code",
   "execution_count": null,
   "metadata": {},
   "outputs": [],
   "source": [
    "#Selecting a time and slicing our starting Dataset\n",
    "ds_space = opened[['tx_max_p50']].isel(time=[0, 1, 2]).sel(lat=slice(40,65), lon=slice(-90,-55))\n",
    "\n",
    "# defining our projection.\n",
    "projection = ccrs.LambertConformal()\n",
    "\n",
    "im = fg.gridmap(ds_space, projection = projection, plot_kw = {\"x\": \"lon\", \"y\": \"lat\", \"col\": \"time\"}, features = ['coastline','ocean'], frame = False, use_attrs={\"suptitle\": \"description\"})\n",
    "\n"
   ]
  },
  {
   "cell_type": "code",
   "execution_count": null,
   "metadata": {},
   "outputs": [],
   "source": [
    "names = ['station_' + str(i) for i in np.arange(5)]\n",
    "lat = 45 + np.random.rand(5)*3\n",
    "lon = np.linspace(-76,-70, 5)\n",
    "tas = np.array([[20, 25, 30, 15, 5], [5, 0, 10, 2, 3]])\n",
    "yrs = np.array([[35, 65, 45, 25, 95],\n",
    "                [15, 75, 10, 15, 50]])\n",
    "\n",
    "attrs = {'units': 'degC', 'standard_name': 'air_temperature', 'long_name': 'Near-Surface Daily Maximum Air Temperature'}\n",
    "\n",
    "tas = xr.DataArray(data=tas,\n",
    "                        coords={'season': ['DFJ', 'MAM'],\n",
    "                                'station': names,\n",
    "                                'lat':('station', lat),\n",
    "                                'lon': ('station', lon),\n",
    "                                'years': (('season', 'station'), yrs),\n",
    "                                },\n",
    "                        dims=['season', 'station'],\n",
    "                        attrs=attrs)\n",
    "obs = xr.Dataset({'tas': tas})\n",
    "\n",
    "# plot\n",
    "fg.scattermap(obs,\n",
    "                  transform=ccrs.PlateCarree(),\n",
    "                  sizes='years',\n",
    "                  size_range=(25, 100),\n",
    "                  plot_kw={\n",
    "                      \"xlim\": (-77,-69),\n",
    "                      \"ylim\":(43,50),\n",
    "                      \"col\": \"season\",\n",
    "                  },\n",
    "                  features={\n",
    "                      \"land\": {\"color\": \"#f0f0f0\"},\n",
    "                      \"rivers\": {\"edgecolor\": \"#cfd3d4\"},\n",
    "                      \"lakes\": {\"facecolor\": \"#cfd3d4\"},\n",
    "                      \"coastline\": {\"edgecolor\": \"black\"},\n",
    "                  }\n",
    "                 )"
   ]
  },
  {
   "cell_type": "code",
   "execution_count": null,
   "metadata": {},
   "outputs": [],
   "source": [
    "names = ['station_' + str(i) for i in np.arange(5)]\n",
    "lat = 45 + np.random.rand(5)*3\n",
    "lon = np.linspace(-76,-70, 5)\n",
    "tas = np.array([[290, 300, 350, 325, 375], [250, 325, 333, 335, 345], [400, 345, 365, 370, 375]])\n",
    "\n",
    "attrs = {'units': 'degK', 'standard_name': 'air_temperature', 'long_name': ds_space.tx_max_p50.attrs['description']}\n",
    "\n",
    "tas = xr.DataArray(data=tas,\n",
    "                        coords={'time': ds_space.time.values,\n",
    "                                'station': names,\n",
    "                                'lat':('station', lat),\n",
    "                                'lon': ('station', lon),\n",
    "                                },\n",
    "                        dims=['time', 'station'],\n",
    "                        attrs=attrs)\n",
    "obs = xr.Dataset({'tas': tas})"
   ]
  },
  {
   "cell_type": "code",
   "execution_count": null,
   "metadata": {},
   "outputs": [],
   "source": []
  }
 ],
 "metadata": {
  "language_info": {
   "codemirror_mode": {
    "name": "ipython",
    "version": 3
   },
   "file_extension": ".py",
   "mimetype": "text/x-python",
   "name": "python",
   "nbconvert_exporter": "python",
   "pygments_lexer": "ipython3",
   "version": "3.11.3"
  }
 },
 "nbformat": 4,
 "nbformat_minor": 1
}
