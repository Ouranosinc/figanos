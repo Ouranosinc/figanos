{
 "cells": [
  {
   "cell_type": "markdown",
   "id": "0",
   "metadata": {},
   "source": [
    "# Timeseries\n",
    "\n"
   ]
  },
  {
   "cell_type": "code",
   "execution_count": null,
   "id": "1",
   "metadata": {
    "nbsphinx": "hidden"
   },
   "outputs": [],
   "source": [
    "#setup notebook\n",
    "%config InlineBackend.print_figure_kwargs = {'bbox_inches':'tight'}\n",
    "%load_ext autoreload\n",
    "%autoreload 2"
   ]
  },
  {
   "cell_type": "code",
   "execution_count": null,
   "id": "2",
   "metadata": {},
   "outputs": [],
   "source": [
    "import xarray as xr\n",
    "import figanos.matplotlib as fg\n",
    "import numpy as np\n",
    "from matplotlib import pyplot as plt\n",
    "import xclim as xc\n",
    "\n",
    "#load Ouranos style and colors\n",
    "fg.utils.set_mpl_style('ouranos')\n",
    "from matplotlib.patches import Rectangle\n",
    "\n",
    "# load dataset\n",
    "url = 'https://pavics.ouranos.ca//twitcher/ows/proxy/thredds/dodsC/birdhouse/disk2/cccs_portal/indices/Final/BCCAQv2_CMIP6/tx_max/YS/ssp585/ensemble_percentiles/tx_max_ann_BCCAQ2v2+ANUSPLIN300_historical+ssp585_1950-2100_30ymean_percentiles.nc'\n",
    "opened = xr.open_dataset(url, decode_timedelta=False)\n",
    "ds_time = opened.isel(lon=500, lat=250)[['tx_max_p50', 'tx_max_p10', 'tx_max_p90']]"
   ]
  },
  {
   "cell_type": "markdown",
   "id": "3",
   "metadata": {},
   "source": [
    "## Using the Ouranos stylesheet\n",
    "\n",
    "Most parameters affecting the style of plots can be set through matplotlib stylesheets. Figanos includes custom stylesheets that can be accessed through the set_mpl_style() function. Paths to your own stylesheets ('.mplstyle' extension) can also be passed to this function. To use the built-in matplotlib styles, use `mpl.style.use()`.\n",
    "\n",
    "The currently available stylesheets are as follows:\n",
    "\n",
    "* ouranos: General stylesheet, including default colors.\n",
    "* transparent: Adds transparency to the styles (fully transparent figure background and 30% opacity on the axes).\n",
    "\n",
    "One of the features of the stylesheet is to redefine the default colors to match Ouranos palette."
   ]
  },
  {
   "cell_type": "code",
   "execution_count": null,
   "id": "4",
   "metadata": {},
   "outputs": [],
   "source": [
    "#display the cycler colors\n",
    "from matplotlib.patches import Rectangle\n",
    "import matplotlib\n",
    "\n",
    "style_colors = matplotlib.rcParams[\"axes.prop_cycle\"].by_key()[\"color\"]\n",
    "\n",
    "fig, ax = plt.subplots(figsize=(10,3))\n",
    "for color, x in zip(style_colors, np.arange(0, len(style_colors)*2, 2)):\n",
    "    ax.add_patch(\n",
    "    Rectangle(xy=(x, 1),width=0.8,height=0.5,\n",
    "              facecolor=color)\n",
    "    )\n",
    "    ax.text(x, 0.5, str(color), color=color)\n",
    "\n",
    "ax.set_ylim(0,2)\n",
    "ax.set_xlim(0,14)\n",
    "ax.set_aspect('equal')\n",
    "ax.set_axis_off()"
   ]
  },
  {
   "cell_type": "markdown",
   "id": "5",
   "metadata": {},
   "source": [
    "## Basic timeseries\n",
    "The [**timeseries()**](#timeseries) function accepts DataArrays or Datasets. "
   ]
  },
  {
   "cell_type": "code",
   "execution_count": null,
   "id": "6",
   "metadata": {},
   "outputs": [],
   "source": [
    "fg.timeseries(ds_time.tx_max_p50);\n",
    "\n",
    "#plt.savefig(\"../_static/_images/basic_timeseries.png\", bbox_inches='tight')"
   ]
  },
  {
   "cell_type": "markdown",
   "id": "7",
   "metadata": {},
   "source": [
    "## Using the dictionary interface\n",
    "\n",
    "To plot many lines, users need to input dictionnaries instead of a simple dataset.\n",
    "\n",
    "The main elements of a plot are dependent on four arguments, each accepting dictionaries:\n",
    "\n",
    "1. `data` : a dictionary containing the Xarray objects and their respective keys, used as labels on the plot.\n",
    "2. `use_attrs`: a dictionary linking attributes from the Xarray object to plot text elements.\n",
    "3. `fig_kw`: a dictionary to pass arguments to the `plt.figure()` instance.\n",
    "4. `plot_kw` : a dictionary using the same keys as `data` to pass arguments to the underlying plotting function, in this case [matplotlib.axes.Axes.plot](https://matplotlib.org/stable/api/_as_gen/matplotlib.axes.Axes.plot.html).\n",
    "\n",
    "When labels are passed in `data`, any 'label' argument passed in `plot_kw` will be ignored."
   ]
  },
  {
   "cell_type": "code",
   "execution_count": null,
   "id": "8",
   "metadata": {},
   "outputs": [],
   "source": [
    "my_data = {'50th percentile': ds_time.tx_max_p50, '90th percentile': ds_time.tx_max_p90}\n",
    "plot_kws = {'90th percentile': {'linestyle': '--'}}\n",
    "\n",
    "fg.timeseries(my_data,\n",
    "              plot_kw = plot_kws,\n",
    "              show_lat_lon=False\n",
    "             )"
   ]
  },
  {
   "cell_type": "markdown",
   "id": "9",
   "metadata": {},
   "source": [
    "## Customizing plots\n",
    "\n",
    "Plots created with Figanos can be customized in two different ways:\n",
    "\n",
    "1. By using the built-in options through arguments (e.g. changing the type of legend with the `legend` arg).\n",
    "2. By creating a Matplotlib Axes class and using its methods (e.g. setting a new title with `ax.set_title()`).\n",
    "\n",
    "Both of these types of customization are demonstrated below. In some cases, both methods can achieve the same result."
   ]
  },
  {
   "cell_type": "code",
   "execution_count": null,
   "id": "10",
   "metadata": {},
   "outputs": [],
   "source": [
    "ax = fg.timeseries(\n",
    "    my_data,show_lat_lon=\"upper left\",# fun legend option, moved latitude and longitude tag\n",
    "    legend='edge',\n",
    "    use_attrs={'ylabel': 'standard_name'} # will look for an attribute 'standard name' in the first entry of my_data\n",
    "                  ) \n",
    "ax.set_title('Custom Title', loc='left') #when the title is left aligned, the \"loc=left\" argument must be used.\n",
    "                                         # to remove a title, use ax.set_title('', loc='left')\n",
    "ax.set_xlabel('Custom xlabel')\n",
    "ax.set_ylabel('Custom ylabel')\n",
    "ax.grid(False) # removing the gridlines\n",
    "ax.set_yticks([300,310]) # Custom yticks"
   ]
  },
  {
   "cell_type": "markdown",
   "id": "11",
   "metadata": {},
   "source": [
    "## Ensembles\n",
    "\n",
    "When Datasets are passed to the timeseries function, certain names and data configurations will be recognized and will result in certain kinds of plots.\n",
    "\n",
    "| Dataset configuration | Resulting plot | Notes |\n",
    "|:----------:|:--------------:|:----------------:|\n",
    "|Variables contain a substring of the format \"\\_pNN\", where N are numbers|Shaded line graph with the central line being the middle percentile|\n",
    "|Contains a dimension named \"percentiles\"|Shaded line graph with the central line being the middle percentile| Behaviour is shared with DataArrays containing the same dimension.|\n",
    "|Variables contain \"min\" and \"max\" and \"mean\" (can be capitalized) |Shaded line graph with the central line being the mean|\n",
    "|Contains a dimension named \"realization\"|Line graph with one line per realization | When plot_kw is specified, all realizations within the Dataset will share one style.  Behaviour is shared with DataArrays containing the same dimension.|\n",
    "|Any other Dataset| Line graph with one line per variable||\n",
    "\n"
   ]
  },
  {
   "cell_type": "code",
   "execution_count": null,
   "id": "12",
   "metadata": {},
   "outputs": [],
   "source": [
    "# Use 'median' as a key to make it the line label in the legend.\n",
    "# legend='full' will create a legend entry for the shaded area\n",
    "fg.plot.timeseries({'median': ds_time}, legend='full', show_lat_lon=False)"
   ]
  },
  {
   "cell_type": "markdown",
   "id": "13",
   "metadata": {},
   "source": [
    "Whenever multiple lines are plotted from a single Dataset, their legend label will be the concatenation of the Dataset name (its key in the `data` arg.) and the name of the variables or coordinates from which the data is taken, unless the Dataset is passed to the function without a dictionary. When all lines from a Dataset have the same appearance, only the Dataset label will be shown."
   ]
  },
  {
   "cell_type": "code",
   "execution_count": null,
   "id": "14",
   "metadata": {},
   "outputs": [],
   "source": [
    "# Create a Dataset with different names as to not trigger the shaded line plot\n",
    "ds_mod = ds_time.copy()\n",
    "ds_mod = ds_mod.rename({'tx_max_p50': 'var1','tx_max_p10': 'var2','tx_max_p90': 'var3'})\n",
    "\n",
    "fg.timeseries({'ds':ds_mod}, show_lat_lon=True)"
   ]
  },
  {
   "cell_type": "markdown",
   "id": "15",
   "metadata": {},
   "source": [
    "## Translation\n",
    "Figanos can automatically use translated version of the attributes to populate the plot. It also knows a few translations of usual terms, for the moment only in French."
   ]
  },
  {
   "cell_type": "code",
   "execution_count": null,
   "id": "16",
   "metadata": {},
   "outputs": [],
   "source": [
    "# Populate the example data with french attributes\n",
    "ds_time.tx_max_p50.attrs.update(\n",
    "    description_fr=\"Moyenne 30 ans du Maximum annuel de la température maximale quotidienne, 50e centile de l'ensemble.\",\n",
    "    long_name_fr=\"Moyenne 30 ans du Maximum de la température maximale quotidienne\"\n",
    ")\n",
    "with xc.set_options(metadata_locales=['fr']):\n",
    "    fg.timeseries(ds_time.tx_max_p50)"
   ]
  },
  {
   "cell_type": "markdown",
   "id": "17",
   "metadata": {},
   "source": [
    "## Keyword - colour association\n",
    "\n",
    "Following the IPCC visual style guidelines and the practices of many other climate organizations, some scenarios (RCPs, SSPs), models and projects (CMIPs) are associated with specific colors. These colours can be implemented in timeseries() through the keys of the `data` argument. If a formulation of such scenarios or model names is found in a key, the corresponding line will be given the appropriate colour. For scenarios, alternative formats such as _ssp585_ or _rcp45_ are also accepted instead of the more formal _SSP5-8.5_ on _RCP4.5_. Model names do not currently have this flexibility. If multiple matching substrings exist, the following order of priority will dictate which colour is used:\n",
    "\n",
    "1. SSP scenarios\n",
    "2. RCP scenarios\n",
    "3. Model names\n",
    "4. CMIP5 or CMIP6\n",
    "\n",
    "Here is the list of the accepted substrings and colors."
   ]
  },
  {
   "cell_type": "code",
   "execution_count": null,
   "id": "18",
   "metadata": {},
   "outputs": [],
   "source": [
    "color_dict = fg.utils.categorical_colors()\n",
    "\n",
    "keys = np.array(list(color_dict.keys()))\n",
    "keys = np.array_split(keys, 3)\n",
    "\n",
    "\n",
    "fig, ax = plt.subplots(figsize=(8,10))\n",
    "ax.set_ylim(-25,3)\n",
    "ax.set_xlim(0,12)\n",
    "ax.set_axis_off()\n",
    "for colorlist, x in zip(keys, [1, 5.5, 10]):\n",
    "    for y in np.arange(len(colorlist)):\n",
    "        ax.text(x, -y, colorlist[y],\n",
    "                va='bottom', ha='left',\n",
    "                backgroundcolor='white',\n",
    "                weight='normal', color='k'\n",
    "                )\n",
    "        ax.add_patch(\n",
    "            Rectangle(xy=(x-1, -y),width=0.5,height=0.5,\n",
    "                      facecolor=color_dict[colorlist[y]],\n",
    "                     edgecolor='0.8')\n",
    "                     )"
   ]
  },
  {
   "cell_type": "code",
   "execution_count": null,
   "id": "19",
   "metadata": {},
   "outputs": [],
   "source": [
    "data = {'tasmax_ssp434': ds_time,\n",
    "        'tasmax_ssp245': ds_time.copy()-10,\n",
    "        'tasmax_ssp585': ds_time.copy()+10}\n",
    "\n",
    "fg.timeseries(data=data, legend='edge', show_lat_lon=False)\n",
    "\n",
    "#plt.savefig(\"../_static/_images/ensemble_timeseries.png\", bbox_inches='tight')"
   ]
  }
 ],
 "metadata": {
  "celltoolbar": "Edit Metadata",
  "language_info": {
   "codemirror_mode": {
    "name": "ipython",
    "version": 3
   },
   "file_extension": ".py",
   "mimetype": "text/x-python",
   "name": "python",
   "nbconvert_exporter": "python",
   "pygments_lexer": "ipython3",
   "version": "3.11.0"
  }
 },
 "nbformat": 4,
 "nbformat_minor": 5
}
