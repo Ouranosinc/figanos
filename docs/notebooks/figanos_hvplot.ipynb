{
 "cells": [
  {
   "cell_type": "markdown",
   "id": "0",
   "metadata": {
    "jupyter": {
     "outputs_hidden": false
    }
   },
   "source": [
    "# Interactive plotting"
   ]
  },
  {
   "cell_type": "markdown",
   "id": "1",
   "metadata": {
    "jupyter": {
     "outputs_hidden": false
    }
   },
   "source": [
    "Figanos can also be used with the [hvplot](https://hvplot.holoviz.org/) library, which provides a high-level plotting API built on HoloViews to produce interactive plots."
   ]
  },
  {
   "cell_type": "code",
   "execution_count": null,
   "id": "2",
   "metadata": {},
   "outputs": [],
   "source": [
    "import pandas as pd\n",
    "import numpy as np\n",
    "import xarray as xr\n",
    "from xclim import ensembles\n",
    "\n",
    "xr.set_options(keep_attrs=True)"
   ]
  },
  {
   "cell_type": "markdown",
   "id": "3",
   "metadata": {},
   "source": [
    "## HvPlot ouranos theme "
   ]
  },
  {
   "cell_type": "code",
   "execution_count": null,
   "id": "4",
   "metadata": {},
   "outputs": [],
   "source": [
    "from figanos.hvplot.utils import set_hv_style\n",
    "\n",
    "set_hv_style(\"ouranos\")"
   ]
  },
  {
   "cell_type": "markdown",
   "id": "5",
   "metadata": {},
   "source": [
    "## Timeseries\n",
    "\n",
    "The main elements of a plot are dependent on four arguments, each accepting dictionaries:\n",
    "\n",
    "1. `data` : a dictionary containing the Xarray objects and their respective keys, used as labels on the plot.\n",
    "2. `use_attrs`: a dictionary linking attributes from the Xarray object to plot text elements.\n",
    "3. `plot_kw` : a dictionary using the same keys as `data` to pass arguments to the underlying plotting function, in this case [hvplot.line](https://hvplot.holoviz.org/reference/tabular/line.html).\n",
    "4. `opts_kw`: a dictionary using the same keys as `data` plus overlay (to be passed to the combined elements of all `data` values) to pass to the underlying `.opts` [holoviz funciton](https://holoviews.org/user_guide/Customizing_Plots.html).\n",
    "\n",
    "When labels are passed in `data`, any 'label' argument passed in `plot_kw` will be ignored."
   ]
  },
  {
   "cell_type": "code",
   "execution_count": null,
   "id": "6",
   "metadata": {},
   "outputs": [],
   "source": [
    "# creates dataset\n",
    "\n",
    "time = pd.date_range(start=\"1960-01-01\", end=\"2020-01-01\", periods=10)\n",
    "np.random.seed(1231)\n",
    "dat_1 = np.random.rand(10) * 20\n",
    "dat_2 = np.random.rand(10) * 20\n",
    "dat_3 = np.random.rand(10) * 20\n",
    "\n",
    "dt = xr.Dataset(\n",
    "    data_vars={\n",
    "        \"tas\": (\n",
    "            [\n",
    "                \"realization\",\n",
    "                # 'group',\n",
    "                \"time\",\n",
    "            ],\n",
    "            # np.array([[dat_1, dat_2], [dat_2, dat_3], [dat_3, dat_1]])\n",
    "            np.array([dat_1, dat_2, dat_3]),\n",
    "        )\n",
    "    },\n",
    "    coords={\n",
    "        \"time\": time,\n",
    "        \"lat\": 41,\n",
    "        \"lon\": -73,\n",
    "        # 'group': ['a', 'b'],\n",
    "        \"realization\": [0, 1, 2],\n",
    "    },\n",
    ")\n",
    "dt.tas.attrs = {\n",
    "    \"long_name\": \"Randomly generated time-series\",\n",
    "    \"standart_name\": \"air_temp\",\n",
    "    \"description\": \"Synthetic time-series\",\n",
    "    \"units\": \"degC\",\n",
    "}\n",
    "\n",
    "data2 = dt + 10\n",
    "\n",
    "perc = ensembles.ensemble_percentiles(dt, values=[25, 50, 75], split=False)\n",
    "stat = ensembles.ensemble_mean_std_max_min(dt).drop_vars(\"tas_stdev\")\n",
    "perc2 = ensembles.ensemble_percentiles(data2, values=[10, 50, 90], split=False)"
   ]
  },
  {
   "cell_type": "code",
   "execution_count": null,
   "id": "7",
   "metadata": {},
   "outputs": [],
   "source": [
    "from figanos.hvplot import timeseries\n",
    "\n",
    "timeseries(data2)"
   ]
  },
  {
   "cell_type": "code",
   "execution_count": null,
   "id": "8",
   "metadata": {},
   "outputs": [],
   "source": [
    "timeseries(data2, legend=\"in_plot\", show_lat_lon=\"lower left\")"
   ]
  },
  {
   "cell_type": "code",
   "execution_count": null,
   "id": "9",
   "metadata": {},
   "outputs": [],
   "source": [
    "timeseries({\"rcp85\": data2, \"rcp45\": dt}, opts_kw={\"overlay\": {\"legend_position\": \"bottom_right\", \"legend_cols\": 2}}, show_lat_lon=\"lower left\")"
   ]
  },
  {
   "cell_type": "code",
   "execution_count": null,
   "id": "10",
   "metadata": {},
   "outputs": [],
   "source": [
    "timeseries(\n",
    "    {\"val1\": data2, \"val2\": dt},\n",
    "    plot_kw={\"val1\": {\"color\": \"yellow\"}, \"val2\": {\"line_width\": 5, \"color\": \"teal\"}},\n",
    "    opts_kw={\"overlay\": {\"legend_position\": \"right\"}},\n",
    "    show_lat_lon=\"lower left\",\n",
    ")"
   ]
  },
  {
   "cell_type": "code",
   "execution_count": null,
   "id": "11",
   "metadata": {},
   "outputs": [],
   "source": [
    "timeseries({\"ssp245\": perc, \"ssp585\": perc2}, legend=\"full\", show_lat_lon=False, opts_kw={\"overlay\": {\"legend_position\": \"right\"}})"
   ]
  },
  {
   "cell_type": "code",
   "execution_count": null,
   "id": "12",
   "metadata": {},
   "outputs": [],
   "source": []
  }
 ],
 "metadata": {
  "language_info": {
   "codemirror_mode": {
    "name": "ipython",
    "version": 3
   },
   "file_extension": ".py",
   "mimetype": "text/x-python",
   "name": "python",
   "nbconvert_exporter": "python",
   "pygments_lexer": "ipython3",
   "version": "3.12.2"
  }
 },
 "nbformat": 4,
 "nbformat_minor": 5
}
